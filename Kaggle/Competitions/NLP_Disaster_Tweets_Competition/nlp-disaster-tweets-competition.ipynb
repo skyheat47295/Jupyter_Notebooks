{
 "cells": [
  {
   "cell_type": "code",
   "execution_count": 1,
   "id": "domestic-programmer",
   "metadata": {
    "_cell_guid": "b1076dfc-b9ad-4769-8c92-a6c4dae69d19",
    "_uuid": "8f2839f25d086af736a60e9eeb907d3b93b6e0e5",
    "execution": {
     "iopub.execute_input": "2021-05-27T04:25:42.009302Z",
     "iopub.status.busy": "2021-05-27T04:25:42.008634Z",
     "iopub.status.idle": "2021-05-27T04:25:44.328762Z",
     "shell.execute_reply": "2021-05-27T04:25:44.329308Z",
     "shell.execute_reply.started": "2021-05-27T04:16:34.090200Z"
    },
    "papermill": {
     "duration": 2.355037,
     "end_time": "2021-05-27T04:25:44.329625",
     "exception": false,
     "start_time": "2021-05-27T04:25:41.974588",
     "status": "completed"
    },
    "tags": []
   },
   "outputs": [
    {
     "name": "stdout",
     "output_type": "stream",
     "text": [
      "/kaggle/input/nlp-getting-started/sample_submission.csv\n",
      "/kaggle/input/nlp-getting-started/train.csv\n",
      "/kaggle/input/nlp-getting-started/test.csv\n"
     ]
    }
   ],
   "source": [
    "# Import Statements\n",
    "\n",
    "import numpy as np # linear algebra\n",
    "import pandas as pd # data processing, CSV file I/O (e.g. pd.read_csv)\n",
    "import seaborn as sns\n",
    "import matplotlib.pyplot as plt\n",
    "import spacy\n",
    "import random\n",
    "import re\n",
    "from nltk.stem import WordNetLemmatizer\n",
    "from nltk.corpus import stopwords\n",
    "\n",
    "# Input data files are available in the read-only \"../input/\" directory\n",
    "# For example, running this (by clicking run or pressing Shift+Enter) will list all files under the input directory\n",
    "\n",
    "import os\n",
    "for dirname, _, filenames in os.walk('/kaggle/input'):\n",
    "    for filename in filenames:\n",
    "        print(os.path.join(dirname, filename))\n",
    "\n",
    "# You can write up to 20GB to the current directory (/kaggle/working/) that gets preserved as output when you create a version using \"Save & Run All\" \n",
    "# You can also write temporary files to /kaggle/temp/, but they won't be saved outside of the current session"
   ]
  },
  {
   "cell_type": "code",
   "execution_count": 2,
   "id": "dramatic-upset",
   "metadata": {
    "execution": {
     "iopub.execute_input": "2021-05-27T04:25:44.376433Z",
     "iopub.status.busy": "2021-05-27T04:25:44.375786Z",
     "iopub.status.idle": "2021-05-27T04:25:44.447855Z",
     "shell.execute_reply": "2021-05-27T04:25:44.448491Z",
     "shell.execute_reply.started": "2021-05-27T04:16:34.102191Z"
    },
    "papermill": {
     "duration": 0.096632,
     "end_time": "2021-05-27T04:25:44.448663",
     "exception": false,
     "start_time": "2021-05-27T04:25:44.352031",
     "status": "completed"
    },
    "tags": []
   },
   "outputs": [
    {
     "data": {
      "text/html": [
       "<div>\n",
       "<style scoped>\n",
       "    .dataframe tbody tr th:only-of-type {\n",
       "        vertical-align: middle;\n",
       "    }\n",
       "\n",
       "    .dataframe tbody tr th {\n",
       "        vertical-align: top;\n",
       "    }\n",
       "\n",
       "    .dataframe thead th {\n",
       "        text-align: right;\n",
       "    }\n",
       "</style>\n",
       "<table border=\"1\" class=\"dataframe\">\n",
       "  <thead>\n",
       "    <tr style=\"text-align: right;\">\n",
       "      <th></th>\n",
       "      <th>id</th>\n",
       "      <th>keyword</th>\n",
       "      <th>location</th>\n",
       "      <th>text</th>\n",
       "      <th>target</th>\n",
       "    </tr>\n",
       "  </thead>\n",
       "  <tbody>\n",
       "    <tr>\n",
       "      <th>0</th>\n",
       "      <td>1</td>\n",
       "      <td>NaN</td>\n",
       "      <td>NaN</td>\n",
       "      <td>Our Deeds are the Reason of this #earthquake M...</td>\n",
       "      <td>1</td>\n",
       "    </tr>\n",
       "    <tr>\n",
       "      <th>1</th>\n",
       "      <td>4</td>\n",
       "      <td>NaN</td>\n",
       "      <td>NaN</td>\n",
       "      <td>Forest fire near La Ronge Sask. Canada</td>\n",
       "      <td>1</td>\n",
       "    </tr>\n",
       "    <tr>\n",
       "      <th>2</th>\n",
       "      <td>5</td>\n",
       "      <td>NaN</td>\n",
       "      <td>NaN</td>\n",
       "      <td>All residents asked to 'shelter in place' are ...</td>\n",
       "      <td>1</td>\n",
       "    </tr>\n",
       "    <tr>\n",
       "      <th>3</th>\n",
       "      <td>6</td>\n",
       "      <td>NaN</td>\n",
       "      <td>NaN</td>\n",
       "      <td>13,000 people receive #wildfires evacuation or...</td>\n",
       "      <td>1</td>\n",
       "    </tr>\n",
       "    <tr>\n",
       "      <th>4</th>\n",
       "      <td>7</td>\n",
       "      <td>NaN</td>\n",
       "      <td>NaN</td>\n",
       "      <td>Just got sent this photo from Ruby #Alaska as ...</td>\n",
       "      <td>1</td>\n",
       "    </tr>\n",
       "  </tbody>\n",
       "</table>\n",
       "</div>"
      ],
      "text/plain": [
       "   id keyword location                                               text  \\\n",
       "0   1     NaN      NaN  Our Deeds are the Reason of this #earthquake M...   \n",
       "1   4     NaN      NaN             Forest fire near La Ronge Sask. Canada   \n",
       "2   5     NaN      NaN  All residents asked to 'shelter in place' are ...   \n",
       "3   6     NaN      NaN  13,000 people receive #wildfires evacuation or...   \n",
       "4   7     NaN      NaN  Just got sent this photo from Ruby #Alaska as ...   \n",
       "\n",
       "   target  \n",
       "0       1  \n",
       "1       1  \n",
       "2       1  \n",
       "3       1  \n",
       "4       1  "
      ]
     },
     "execution_count": 2,
     "metadata": {},
     "output_type": "execute_result"
    }
   ],
   "source": [
    "# Load in the data from .csv file\n",
    "train_data = pd.read_csv('../input/nlp-getting-started/train.csv')\n",
    "train_data.head()"
   ]
  },
  {
   "cell_type": "code",
   "execution_count": 3,
   "id": "warming-terrorist",
   "metadata": {
    "execution": {
     "iopub.execute_input": "2021-05-27T04:25:44.496876Z",
     "iopub.status.busy": "2021-05-27T04:25:44.496305Z",
     "iopub.status.idle": "2021-05-27T04:25:44.531916Z",
     "shell.execute_reply": "2021-05-27T04:25:44.532534Z",
     "shell.execute_reply.started": "2021-05-27T04:16:34.140228Z"
    },
    "papermill": {
     "duration": 0.061703,
     "end_time": "2021-05-27T04:25:44.532700",
     "exception": false,
     "start_time": "2021-05-27T04:25:44.470997",
     "status": "completed"
    },
    "tags": []
   },
   "outputs": [
    {
     "data": {
      "text/html": [
       "<div>\n",
       "<style scoped>\n",
       "    .dataframe tbody tr th:only-of-type {\n",
       "        vertical-align: middle;\n",
       "    }\n",
       "\n",
       "    .dataframe tbody tr th {\n",
       "        vertical-align: top;\n",
       "    }\n",
       "\n",
       "    .dataframe thead th {\n",
       "        text-align: right;\n",
       "    }\n",
       "</style>\n",
       "<table border=\"1\" class=\"dataframe\">\n",
       "  <thead>\n",
       "    <tr style=\"text-align: right;\">\n",
       "      <th></th>\n",
       "      <th>id</th>\n",
       "      <th>keyword</th>\n",
       "      <th>location</th>\n",
       "      <th>text</th>\n",
       "    </tr>\n",
       "  </thead>\n",
       "  <tbody>\n",
       "    <tr>\n",
       "      <th>0</th>\n",
       "      <td>0</td>\n",
       "      <td>NaN</td>\n",
       "      <td>NaN</td>\n",
       "      <td>Just happened a terrible car crash</td>\n",
       "    </tr>\n",
       "    <tr>\n",
       "      <th>1</th>\n",
       "      <td>2</td>\n",
       "      <td>NaN</td>\n",
       "      <td>NaN</td>\n",
       "      <td>Heard about #earthquake is different cities, s...</td>\n",
       "    </tr>\n",
       "    <tr>\n",
       "      <th>2</th>\n",
       "      <td>3</td>\n",
       "      <td>NaN</td>\n",
       "      <td>NaN</td>\n",
       "      <td>there is a forest fire at spot pond, geese are...</td>\n",
       "    </tr>\n",
       "    <tr>\n",
       "      <th>3</th>\n",
       "      <td>9</td>\n",
       "      <td>NaN</td>\n",
       "      <td>NaN</td>\n",
       "      <td>Apocalypse lighting. #Spokane #wildfires</td>\n",
       "    </tr>\n",
       "    <tr>\n",
       "      <th>4</th>\n",
       "      <td>11</td>\n",
       "      <td>NaN</td>\n",
       "      <td>NaN</td>\n",
       "      <td>Typhoon Soudelor kills 28 in China and Taiwan</td>\n",
       "    </tr>\n",
       "  </tbody>\n",
       "</table>\n",
       "</div>"
      ],
      "text/plain": [
       "   id keyword location                                               text\n",
       "0   0     NaN      NaN                 Just happened a terrible car crash\n",
       "1   2     NaN      NaN  Heard about #earthquake is different cities, s...\n",
       "2   3     NaN      NaN  there is a forest fire at spot pond, geese are...\n",
       "3   9     NaN      NaN           Apocalypse lighting. #Spokane #wildfires\n",
       "4  11     NaN      NaN      Typhoon Soudelor kills 28 in China and Taiwan"
      ]
     },
     "execution_count": 3,
     "metadata": {},
     "output_type": "execute_result"
    }
   ],
   "source": [
    "# Load in the data from .csv file\n",
    "test_data = pd.read_csv('../input/nlp-getting-started/test.csv')\n",
    "test_data.head()"
   ]
  },
  {
   "cell_type": "code",
   "execution_count": 4,
   "id": "found-chaos",
   "metadata": {
    "execution": {
     "iopub.execute_input": "2021-05-27T04:25:44.582780Z",
     "iopub.status.busy": "2021-05-27T04:25:44.582114Z",
     "iopub.status.idle": "2021-05-27T04:25:44.756180Z",
     "shell.execute_reply": "2021-05-27T04:25:44.756762Z",
     "shell.execute_reply.started": "2021-05-27T04:16:34.162716Z"
    },
    "papermill": {
     "duration": 0.200959,
     "end_time": "2021-05-27T04:25:44.756925",
     "exception": false,
     "start_time": "2021-05-27T04:25:44.555966",
     "status": "completed"
    },
    "tags": []
   },
   "outputs": [
    {
     "data": {
      "text/plain": [
       "Text(0.5, 1.0, \"Count of NaN's in data\")"
      ]
     },
     "execution_count": 4,
     "metadata": {},
     "output_type": "execute_result"
    },
    {
     "data": {
      "image/png": "[encoded data removed]",
      "text/plain": [
       "<Figure size 432x288 with 1 Axes>"
      ]
     },
     "metadata": {
      "needs_background": "light"
     },
     "output_type": "display_data"
    }
   ],
   "source": [
    "# Evaluate Missing Values\n",
    "train_na_count = train_data.isna().sum()\n",
    "sns.barplot(x=train_na_count.values, y=train_na_count.index)\n",
    "plt.title(\"Count of NaN's in data\")"
   ]
  },
  {
   "cell_type": "code",
   "execution_count": 5,
   "id": "common-chapter",
   "metadata": {
    "execution": {
     "iopub.execute_input": "2021-05-27T04:25:44.808600Z",
     "iopub.status.busy": "2021-05-27T04:25:44.807927Z",
     "iopub.status.idle": "2021-05-27T04:25:44.817375Z",
     "shell.execute_reply": "2021-05-27T04:25:44.817858Z",
     "shell.execute_reply.started": "2021-05-27T04:16:34.284866Z"
    },
    "papermill": {
     "duration": 0.037205,
     "end_time": "2021-05-27T04:25:44.818023",
     "exception": false,
     "start_time": "2021-05-27T04:25:44.780818",
     "status": "completed"
    },
    "tags": []
   },
   "outputs": [
    {
     "data": {
      "text/plain": [
       "id             0\n",
       "keyword       61\n",
       "location    2533\n",
       "text           0\n",
       "target         0\n",
       "dtype: int64"
      ]
     },
     "execution_count": 5,
     "metadata": {},
     "output_type": "execute_result"
    }
   ],
   "source": [
    "train_data.isna().sum()"
   ]
  },
  {
   "cell_type": "code",
   "execution_count": 6,
   "id": "opened-lesson",
   "metadata": {
    "execution": {
     "iopub.execute_input": "2021-05-27T04:25:44.869472Z",
     "iopub.status.busy": "2021-05-27T04:25:44.868842Z",
     "iopub.status.idle": "2021-05-27T04:25:44.876510Z",
     "shell.execute_reply": "2021-05-27T04:25:44.877074Z",
     "shell.execute_reply.started": "2021-05-27T04:16:34.294962Z"
    },
    "papermill": {
     "duration": 0.035009,
     "end_time": "2021-05-27T04:25:44.877249",
     "exception": false,
     "start_time": "2021-05-27T04:25:44.842240",
     "status": "completed"
    },
    "tags": []
   },
   "outputs": [
    {
     "data": {
      "text/plain": [
       "id             0\n",
       "keyword       26\n",
       "location    1105\n",
       "text           0\n",
       "dtype: int64"
      ]
     },
     "execution_count": 6,
     "metadata": {},
     "output_type": "execute_result"
    }
   ],
   "source": [
    "test_data.isna().sum()"
   ]
  },
  {
   "cell_type": "code",
   "execution_count": 7,
   "id": "actual-impossible",
   "metadata": {
    "execution": {
     "iopub.execute_input": "2021-05-27T04:25:44.928978Z",
     "iopub.status.busy": "2021-05-27T04:25:44.928337Z",
     "iopub.status.idle": "2021-05-27T04:25:44.938843Z",
     "shell.execute_reply": "2021-05-27T04:25:44.939376Z",
     "shell.execute_reply.started": "2021-05-27T04:16:34.308846Z"
    },
    "papermill": {
     "duration": 0.037974,
     "end_time": "2021-05-27T04:25:44.939546",
     "exception": false,
     "start_time": "2021-05-27T04:25:44.901572",
     "status": "completed"
    },
    "tags": []
   },
   "outputs": [
    {
     "data": {
      "text/plain": [
       "id          7613\n",
       "keyword     7552\n",
       "location    5080\n",
       "text        7613\n",
       "target      7613\n",
       "dtype: int64"
      ]
     },
     "execution_count": 7,
     "metadata": {},
     "output_type": "execute_result"
    }
   ],
   "source": [
    "train_data.count()\n"
   ]
  },
  {
   "cell_type": "code",
   "execution_count": 8,
   "id": "exclusive-telephone",
   "metadata": {
    "execution": {
     "iopub.execute_input": "2021-05-27T04:25:44.992648Z",
     "iopub.status.busy": "2021-05-27T04:25:44.991979Z",
     "iopub.status.idle": "2021-05-27T04:25:45.000524Z",
     "shell.execute_reply": "2021-05-27T04:25:45.001068Z",
     "shell.execute_reply.started": "2021-05-27T04:16:34.327782Z"
    },
    "papermill": {
     "duration": 0.036999,
     "end_time": "2021-05-27T04:25:45.001238",
     "exception": false,
     "start_time": "2021-05-27T04:25:44.964239",
     "status": "completed"
    },
    "tags": []
   },
   "outputs": [
    {
     "data": {
      "text/plain": [
       "id          3263\n",
       "keyword     3237\n",
       "location    2158\n",
       "text        3263\n",
       "dtype: int64"
      ]
     },
     "execution_count": 8,
     "metadata": {},
     "output_type": "execute_result"
    }
   ],
   "source": [
    "test_data.count()\n"
   ]
  },
  {
   "cell_type": "code",
   "execution_count": 9,
   "id": "pleasant-reservoir",
   "metadata": {
    "execution": {
     "iopub.execute_input": "2021-05-27T04:25:45.054424Z",
     "iopub.status.busy": "2021-05-27T04:25:45.053804Z",
     "iopub.status.idle": "2021-05-27T04:25:47.870181Z",
     "shell.execute_reply": "2021-05-27T04:25:47.869674Z",
     "shell.execute_reply.started": "2021-05-27T04:16:34.342027Z"
    },
    "papermill": {
     "duration": 2.843921,
     "end_time": "2021-05-27T04:25:47.870338",
     "exception": false,
     "start_time": "2021-05-27T04:25:45.026417",
     "status": "completed"
    },
    "tags": []
   },
   "outputs": [],
   "source": [
    "# Data Cleaning Train\n",
    "#stripped = []\n",
    "#for text in train_data['text'].values:\n",
    "#        stripped.append(re.sub(r'https?://\\S+|www\\.\\S+','',text))    # removing website link if any present in the text\n",
    "#train_data['html_stripped'] = stripped\n",
    "\n",
    "wl = WordNetLemmatizer()\n",
    "STOPWORDS = stopwords.words('english')\n",
    "corpus = list()\n",
    "for text in train_data['text'].values:\n",
    "    text = re.sub(r'https?://\\S+|www\\.\\S+','',text)    # removing website link if any present in the text \n",
    "    text = re.sub(r'[^a-zA-Z]', ' ', text)             # keeping only alphabetic characters\n",
    "    text = text.lower()\n",
    "    text = text.split()\n",
    "    text = [wl.lemmatize(word) for word in text if not word in STOPWORDS]  # lemmatizing the words using wordnet lemmatizer\n",
    "    text = \" \".join(text)\n",
    "    corpus.append(text)\n",
    "train_data['preprocessed_data'] = corpus"
   ]
  },
  {
   "cell_type": "code",
   "execution_count": 10,
   "id": "unique-anime",
   "metadata": {
    "execution": {
     "iopub.execute_input": "2021-05-27T04:25:47.932047Z",
     "iopub.status.busy": "2021-05-27T04:25:47.931146Z",
     "iopub.status.idle": "2021-05-27T04:25:47.935106Z",
     "shell.execute_reply": "2021-05-27T04:25:47.934515Z",
     "shell.execute_reply.started": "2021-05-27T04:16:34.892606Z"
    },
    "papermill": {
     "duration": 0.039777,
     "end_time": "2021-05-27T04:25:47.935238",
     "exception": false,
     "start_time": "2021-05-27T04:25:47.895461",
     "status": "completed"
    },
    "tags": []
   },
   "outputs": [
    {
     "data": {
      "text/html": [
       "<div>\n",
       "<style scoped>\n",
       "    .dataframe tbody tr th:only-of-type {\n",
       "        vertical-align: middle;\n",
       "    }\n",
       "\n",
       "    .dataframe tbody tr th {\n",
       "        vertical-align: top;\n",
       "    }\n",
       "\n",
       "    .dataframe thead th {\n",
       "        text-align: right;\n",
       "    }\n",
       "</style>\n",
       "<table border=\"1\" class=\"dataframe\">\n",
       "  <thead>\n",
       "    <tr style=\"text-align: right;\">\n",
       "      <th></th>\n",
       "      <th>id</th>\n",
       "      <th>keyword</th>\n",
       "      <th>location</th>\n",
       "      <th>text</th>\n",
       "      <th>target</th>\n",
       "      <th>preprocessed_data</th>\n",
       "    </tr>\n",
       "  </thead>\n",
       "  <tbody>\n",
       "    <tr>\n",
       "      <th>0</th>\n",
       "      <td>1</td>\n",
       "      <td>NaN</td>\n",
       "      <td>NaN</td>\n",
       "      <td>Our Deeds are the Reason of this #earthquake M...</td>\n",
       "      <td>1</td>\n",
       "      <td>deed reason earthquake may allah forgive u</td>\n",
       "    </tr>\n",
       "    <tr>\n",
       "      <th>1</th>\n",
       "      <td>4</td>\n",
       "      <td>NaN</td>\n",
       "      <td>NaN</td>\n",
       "      <td>Forest fire near La Ronge Sask. Canada</td>\n",
       "      <td>1</td>\n",
       "      <td>forest fire near la ronge sask canada</td>\n",
       "    </tr>\n",
       "    <tr>\n",
       "      <th>2</th>\n",
       "      <td>5</td>\n",
       "      <td>NaN</td>\n",
       "      <td>NaN</td>\n",
       "      <td>All residents asked to 'shelter in place' are ...</td>\n",
       "      <td>1</td>\n",
       "      <td>resident asked shelter place notified officer ...</td>\n",
       "    </tr>\n",
       "    <tr>\n",
       "      <th>3</th>\n",
       "      <td>6</td>\n",
       "      <td>NaN</td>\n",
       "      <td>NaN</td>\n",
       "      <td>13,000 people receive #wildfires evacuation or...</td>\n",
       "      <td>1</td>\n",
       "      <td>people receive wildfire evacuation order calif...</td>\n",
       "    </tr>\n",
       "    <tr>\n",
       "      <th>4</th>\n",
       "      <td>7</td>\n",
       "      <td>NaN</td>\n",
       "      <td>NaN</td>\n",
       "      <td>Just got sent this photo from Ruby #Alaska as ...</td>\n",
       "      <td>1</td>\n",
       "      <td>got sent photo ruby alaska smoke wildfire pour...</td>\n",
       "    </tr>\n",
       "  </tbody>\n",
       "</table>\n",
       "</div>"
      ],
      "text/plain": [
       "   id keyword location                                               text  \\\n",
       "0   1     NaN      NaN  Our Deeds are the Reason of this #earthquake M...   \n",
       "1   4     NaN      NaN             Forest fire near La Ronge Sask. Canada   \n",
       "2   5     NaN      NaN  All residents asked to 'shelter in place' are ...   \n",
       "3   6     NaN      NaN  13,000 people receive #wildfires evacuation or...   \n",
       "4   7     NaN      NaN  Just got sent this photo from Ruby #Alaska as ...   \n",
       "\n",
       "   target                                  preprocessed_data  \n",
       "0       1         deed reason earthquake may allah forgive u  \n",
       "1       1              forest fire near la ronge sask canada  \n",
       "2       1  resident asked shelter place notified officer ...  \n",
       "3       1  people receive wildfire evacuation order calif...  \n",
       "4       1  got sent photo ruby alaska smoke wildfire pour...  "
      ]
     },
     "execution_count": 10,
     "metadata": {},
     "output_type": "execute_result"
    }
   ],
   "source": [
    "train_data.head()"
   ]
  },
  {
   "cell_type": "code",
   "execution_count": 11,
   "id": "gorgeous-neighbor",
   "metadata": {
    "execution": {
     "iopub.execute_input": "2021-05-27T04:25:47.989676Z",
     "iopub.status.busy": "2021-05-27T04:25:47.989056Z",
     "iopub.status.idle": "2021-05-27T04:25:48.294770Z",
     "shell.execute_reply": "2021-05-27T04:25:48.295294Z",
     "shell.execute_reply.started": "2021-05-27T04:16:34.906077Z"
    },
    "papermill": {
     "duration": 0.334707,
     "end_time": "2021-05-27T04:25:48.295460",
     "exception": false,
     "start_time": "2021-05-27T04:25:47.960753",
     "status": "completed"
    },
    "tags": []
   },
   "outputs": [],
   "source": [
    "# Data Cleaning Test\n",
    "#stripped = []\n",
    "#for text in test_data['text'].values:\n",
    "#        stripped.append(re.sub(r'https?://\\S+|www\\.\\S+','',text))    # removing website link if any present in the text\n",
    "#test_data['html_stripped'] = stripped\n",
    "\n",
    "corpus = list()\n",
    "for text in test_data['text'].values:\n",
    "    text = re.sub(r'https?://\\S+|www\\.\\S+','',text)    # removing website link if any present in the text \n",
    "    text = re.sub(r'[^a-zA-Z]', ' ', text)             # keeping only alphabetic characters\n",
    "    text = text.lower()\n",
    "    text = text.split()\n",
    "    text = [wl.lemmatize(word) for word in text if not word in STOPWORDS]  # lemmatizing the words using wordnet lemmatizer\n",
    "    text = \" \".join(text)\n",
    "    corpus.append(text)\n",
    "test_data['preprocessed_data'] = corpus"
   ]
  },
  {
   "cell_type": "code",
   "execution_count": 12,
   "id": "champion-elevation",
   "metadata": {
    "execution": {
     "iopub.execute_input": "2021-05-27T04:25:48.350211Z",
     "iopub.status.busy": "2021-05-27T04:25:48.349598Z",
     "iopub.status.idle": "2021-05-27T04:25:48.361215Z",
     "shell.execute_reply": "2021-05-27T04:25:48.360596Z",
     "shell.execute_reply.started": "2021-05-27T04:16:35.151646Z"
    },
    "papermill": {
     "duration": 0.039632,
     "end_time": "2021-05-27T04:25:48.361367",
     "exception": false,
     "start_time": "2021-05-27T04:25:48.321735",
     "status": "completed"
    },
    "tags": []
   },
   "outputs": [
    {
     "data": {
      "text/html": [
       "<div>\n",
       "<style scoped>\n",
       "    .dataframe tbody tr th:only-of-type {\n",
       "        vertical-align: middle;\n",
       "    }\n",
       "\n",
       "    .dataframe tbody tr th {\n",
       "        vertical-align: top;\n",
       "    }\n",
       "\n",
       "    .dataframe thead th {\n",
       "        text-align: right;\n",
       "    }\n",
       "</style>\n",
       "<table border=\"1\" class=\"dataframe\">\n",
       "  <thead>\n",
       "    <tr style=\"text-align: right;\">\n",
       "      <th></th>\n",
       "      <th>id</th>\n",
       "      <th>keyword</th>\n",
       "      <th>location</th>\n",
       "      <th>text</th>\n",
       "      <th>preprocessed_data</th>\n",
       "    </tr>\n",
       "  </thead>\n",
       "  <tbody>\n",
       "    <tr>\n",
       "      <th>0</th>\n",
       "      <td>0</td>\n",
       "      <td>NaN</td>\n",
       "      <td>NaN</td>\n",
       "      <td>Just happened a terrible car crash</td>\n",
       "      <td>happened terrible car crash</td>\n",
       "    </tr>\n",
       "    <tr>\n",
       "      <th>1</th>\n",
       "      <td>2</td>\n",
       "      <td>NaN</td>\n",
       "      <td>NaN</td>\n",
       "      <td>Heard about #earthquake is different cities, s...</td>\n",
       "      <td>heard earthquake different city stay safe ever...</td>\n",
       "    </tr>\n",
       "    <tr>\n",
       "      <th>2</th>\n",
       "      <td>3</td>\n",
       "      <td>NaN</td>\n",
       "      <td>NaN</td>\n",
       "      <td>there is a forest fire at spot pond, geese are...</td>\n",
       "      <td>forest fire spot pond goose fleeing across str...</td>\n",
       "    </tr>\n",
       "    <tr>\n",
       "      <th>3</th>\n",
       "      <td>9</td>\n",
       "      <td>NaN</td>\n",
       "      <td>NaN</td>\n",
       "      <td>Apocalypse lighting. #Spokane #wildfires</td>\n",
       "      <td>apocalypse lighting spokane wildfire</td>\n",
       "    </tr>\n",
       "    <tr>\n",
       "      <th>4</th>\n",
       "      <td>11</td>\n",
       "      <td>NaN</td>\n",
       "      <td>NaN</td>\n",
       "      <td>Typhoon Soudelor kills 28 in China and Taiwan</td>\n",
       "      <td>typhoon soudelor kill china taiwan</td>\n",
       "    </tr>\n",
       "  </tbody>\n",
       "</table>\n",
       "</div>"
      ],
      "text/plain": [
       "   id keyword location                                               text  \\\n",
       "0   0     NaN      NaN                 Just happened a terrible car crash   \n",
       "1   2     NaN      NaN  Heard about #earthquake is different cities, s...   \n",
       "2   3     NaN      NaN  there is a forest fire at spot pond, geese are...   \n",
       "3   9     NaN      NaN           Apocalypse lighting. #Spokane #wildfires   \n",
       "4  11     NaN      NaN      Typhoon Soudelor kills 28 in China and Taiwan   \n",
       "\n",
       "                                   preprocessed_data  \n",
       "0                        happened terrible car crash  \n",
       "1  heard earthquake different city stay safe ever...  \n",
       "2  forest fire spot pond goose fleeing across str...  \n",
       "3               apocalypse lighting spokane wildfire  \n",
       "4                 typhoon soudelor kill china taiwan  "
      ]
     },
     "execution_count": 12,
     "metadata": {},
     "output_type": "execute_result"
    }
   ],
   "source": [
    "test_data.head()"
   ]
  },
  {
   "cell_type": "code",
   "execution_count": 13,
   "id": "hispanic-payday",
   "metadata": {
    "execution": {
     "iopub.execute_input": "2021-05-27T04:25:48.418595Z",
     "iopub.status.busy": "2021-05-27T04:25:48.417948Z",
     "iopub.status.idle": "2021-05-27T04:25:48.867517Z",
     "shell.execute_reply": "2021-05-27T04:25:48.866971Z",
     "shell.execute_reply.started": "2021-05-27T04:16:35.166072Z"
    },
    "papermill": {
     "duration": 0.480254,
     "end_time": "2021-05-27T04:25:48.867669",
     "exception": false,
     "start_time": "2021-05-27T04:25:48.387415",
     "status": "completed"
    },
    "tags": []
   },
   "outputs": [],
   "source": [
    "# Create an empty model\n",
    "nlp = spacy.blank(\"en\")\n",
    "# Create the TextCategorizer with exclusive classes and \"bow\" architecture\n",
    "textcat = nlp.create_pipe(\n",
    "              \"textcat\",\n",
    "              config={\n",
    "                \"exclusive_classes\": True,\n",
    "                \"architecture\": \"bow\"})\n",
    "# Add the TextCategorizer to the empty model\n",
    "nlp.add_pipe(textcat)\n"
   ]
  },
  {
   "cell_type": "code",
   "execution_count": 14,
   "id": "absolute-narrative",
   "metadata": {
    "execution": {
     "iopub.execute_input": "2021-05-27T04:25:48.923231Z",
     "iopub.status.busy": "2021-05-27T04:25:48.922546Z",
     "iopub.status.idle": "2021-05-27T04:25:48.930251Z",
     "shell.execute_reply": "2021-05-27T04:25:48.930795Z",
     "shell.execute_reply.started": "2021-05-27T04:16:35.354872Z"
    },
    "papermill": {
     "duration": 0.036626,
     "end_time": "2021-05-27T04:25:48.930956",
     "exception": false,
     "start_time": "2021-05-27T04:25:48.894330",
     "status": "completed"
    },
    "tags": []
   },
   "outputs": [
    {
     "data": {
      "text/plain": [
       "1"
      ]
     },
     "execution_count": 14,
     "metadata": {},
     "output_type": "execute_result"
    }
   ],
   "source": [
    "# Add labels to text classifier\n",
    "textcat.add_label(\"Disaster\")\n",
    "textcat.add_label(\"Not_Disaster\")\n"
   ]
  },
  {
   "cell_type": "code",
   "execution_count": 15,
   "id": "suspected-medium",
   "metadata": {
    "execution": {
     "iopub.execute_input": "2021-05-27T04:25:48.986667Z",
     "iopub.status.busy": "2021-05-27T04:25:48.986061Z",
     "iopub.status.idle": "2021-05-27T04:25:48.999913Z",
     "shell.execute_reply": "2021-05-27T04:25:49.000353Z",
     "shell.execute_reply.started": "2021-05-27T04:16:35.362284Z"
    },
    "papermill": {
     "duration": 0.043218,
     "end_time": "2021-05-27T04:25:49.000521",
     "exception": false,
     "start_time": "2021-05-27T04:25:48.957303",
     "status": "completed"
    },
    "tags": []
   },
   "outputs": [],
   "source": [
    "train_texts = train_data['preprocessed_data'].values\n",
    "train_labels = [{'cats': {'Disaster': target == 1,\n",
    "                          'Not_Disaster': target == 0}} \n",
    "                for target in train_data['target']]\n",
    "train_classifier_data = list(zip(train_texts, train_labels))"
   ]
  },
  {
   "cell_type": "code",
   "execution_count": 16,
   "id": "functional-chrome",
   "metadata": {
    "execution": {
     "iopub.execute_input": "2021-05-27T04:25:49.055688Z",
     "iopub.status.busy": "2021-05-27T04:25:49.055095Z",
     "iopub.status.idle": "2021-05-27T04:25:49.063329Z",
     "shell.execute_reply": "2021-05-27T04:25:49.063809Z",
     "shell.execute_reply.started": "2021-05-27T04:16:35.390560Z"
    },
    "papermill": {
     "duration": 0.037195,
     "end_time": "2021-05-27T04:25:49.063992",
     "exception": false,
     "start_time": "2021-05-27T04:25:49.026797",
     "status": "completed"
    },
    "tags": []
   },
   "outputs": [
    {
     "data": {
      "text/plain": [
       "[('deed reason earthquake may allah forgive u',\n",
       "  {'cats': {'Disaster': True, 'Not_Disaster': False}}),\n",
       " ('forest fire near la ronge sask canada',\n",
       "  {'cats': {'Disaster': True, 'Not_Disaster': False}}),\n",
       " ('resident asked shelter place notified officer evacuation shelter place order expected',\n",
       "  {'cats': {'Disaster': True, 'Not_Disaster': False}}),\n",
       " ('people receive wildfire evacuation order california',\n",
       "  {'cats': {'Disaster': True, 'Not_Disaster': False}}),\n",
       " ('got sent photo ruby alaska smoke wildfire pours school',\n",
       "  {'cats': {'Disaster': True, 'Not_Disaster': False}}),\n",
       " ('rockyfire update california hwy closed direction due lake county fire cafire wildfire',\n",
       "  {'cats': {'Disaster': True, 'Not_Disaster': False}}),\n",
       " ('flood disaster heavy rain cause flash flooding street manitou colorado spring area',\n",
       "  {'cats': {'Disaster': True, 'Not_Disaster': False}}),\n",
       " ('top hill see fire wood',\n",
       "  {'cats': {'Disaster': True, 'Not_Disaster': False}}),\n",
       " ('emergency evacuation happening building across street',\n",
       "  {'cats': {'Disaster': True, 'Not_Disaster': False}}),\n",
       " ('afraid tornado coming area',\n",
       "  {'cats': {'Disaster': True, 'Not_Disaster': False}}),\n",
       " ('three people died heat wave far',\n",
       "  {'cats': {'Disaster': True, 'Not_Disaster': False}}),\n",
       " ('haha south tampa getting flooded hah wait second live south tampa gonna gonna fvck flooding',\n",
       "  {'cats': {'Disaster': True, 'Not_Disaster': False}}),\n",
       " ('raining flooding florida tampabay tampa day lost count',\n",
       "  {'cats': {'Disaster': True, 'Not_Disaster': False}}),\n",
       " ('flood bago myanmar arrived bago',\n",
       "  {'cats': {'Disaster': True, 'Not_Disaster': False}}),\n",
       " ('damage school bus multi car crash breaking',\n",
       "  {'cats': {'Disaster': True, 'Not_Disaster': False}}),\n",
       " ('man', {'cats': {'Disaster': False, 'Not_Disaster': True}}),\n",
       " ('love fruit', {'cats': {'Disaster': False, 'Not_Disaster': True}}),\n",
       " ('summer lovely', {'cats': {'Disaster': False, 'Not_Disaster': True}}),\n",
       " ('car fast', {'cats': {'Disaster': False, 'Not_Disaster': True}}),\n",
       " ('goooooooaaaaaal', {'cats': {'Disaster': False, 'Not_Disaster': True}})]"
      ]
     },
     "execution_count": 16,
     "metadata": {},
     "output_type": "execute_result"
    }
   ],
   "source": [
    "train_classifier_data[:20]"
   ]
  },
  {
   "cell_type": "code",
   "execution_count": 17,
   "id": "quarterly-benefit",
   "metadata": {
    "execution": {
     "iopub.execute_input": "2021-05-27T04:25:49.120429Z",
     "iopub.status.busy": "2021-05-27T04:25:49.119490Z",
     "iopub.status.idle": "2021-05-27T05:16:28.405759Z",
     "shell.execute_reply": "2021-05-27T05:16:28.404783Z",
     "shell.execute_reply.started": "2021-05-27T04:16:35.406630Z"
    },
    "papermill": {
     "duration": 3039.315433,
     "end_time": "2021-05-27T05:16:28.405918",
     "exception": false,
     "start_time": "2021-05-27T04:25:49.090485",
     "status": "completed"
    },
    "tags": []
   },
   "outputs": [
    {
     "name": "stdout",
     "output_type": "stream",
     "text": [
      "{'textcat': 5.402231709798798}\n",
      "{'textcat': 8.783880370639963}\n",
      "{'textcat': 11.390192205115454}\n",
      "{'textcat': 13.515880694714724}\n",
      "{'textcat': 15.307462472577754}\n",
      "{'textcat': 16.84630380794988}\n",
      "{'textcat': 18.20043981046001}\n",
      "{'textcat': 19.397528466893164}\n",
      "{'textcat': 20.45850181275955}\n",
      "{'textcat': 21.416457695939698}\n",
      "{'textcat': 22.29576161111163}\n",
      "{'textcat': 23.10356680572295}\n",
      "{'textcat': 23.850255569683895}\n",
      "{'textcat': 24.543920146447363}\n",
      "{'textcat': 25.198166106376107}\n",
      "{'textcat': 25.81824107984191}\n",
      "{'textcat': 26.403551931656054}\n",
      "{'textcat': 26.96428419106454}\n",
      "{'textcat': 27.50376758823683}\n",
      "{'textcat': 28.02052641126625}\n",
      "{'textcat': 28.51604931705456}\n",
      "{'textcat': 29.00443602119648}\n",
      "{'textcat': 29.47823799245556}\n",
      "{'textcat': 29.9345759980472}\n",
      "{'textcat': 30.379190102896736}\n",
      "{'textcat': 30.81402249968011}\n",
      "{'textcat': 31.243850225903213}\n",
      "{'textcat': 31.658495367390053}\n",
      "{'textcat': 32.06956247102678}\n",
      "{'textcat': 32.47072903649425}\n",
      "{'textcat': 32.86665606864239}\n",
      "{'textcat': 33.25604655852402}\n",
      "{'textcat': 33.64152432285298}\n",
      "{'textcat': 34.02604167360079}\n",
      "{'textcat': 34.41088040654731}\n",
      "{'textcat': 34.78371578410257}\n",
      "{'textcat': 35.15502144806115}\n",
      "{'textcat': 35.51768503644248}\n",
      "{'textcat': 35.88298965486463}\n",
      "{'textcat': 36.243952407058835}\n",
      "{'textcat': 36.59887368473395}\n",
      "{'textcat': 36.95332363448421}\n",
      "{'textcat': 37.3070478808166}\n",
      "{'textcat': 37.65811364177095}\n",
      "{'textcat': 38.00832797265331}\n",
      "{'textcat': 38.355734469629795}\n",
      "{'textcat': 38.70153221906714}\n",
      "{'textcat': 39.04587317902982}\n",
      "{'textcat': 39.3954084503368}\n",
      "{'textcat': 39.734000691371165}\n",
      "{'textcat': 40.07400676498812}\n",
      "{'textcat': 40.41332280476631}\n",
      "{'textcat': 40.75013418995011}\n",
      "{'textcat': 41.08838390360976}\n",
      "{'textcat': 41.423194802273386}\n",
      "{'textcat': 41.75667720913831}\n",
      "{'textcat': 42.09052894920628}\n",
      "{'textcat': 42.42308024897901}\n",
      "{'textcat': 42.76245428396647}\n",
      "{'textcat': 43.09306980398492}\n",
      "{'textcat': 43.423446549829045}\n",
      "{'textcat': 43.76568961252359}\n",
      "{'textcat': 44.092322052340506}\n",
      "{'textcat': 44.422490622628196}\n",
      "{'textcat': 44.75643492923674}\n",
      "{'textcat': 45.08268516040622}\n",
      "{'textcat': 45.409658661954}\n",
      "{'textcat': 45.735945265032456}\n",
      "{'textcat': 46.062050533358935}\n",
      "{'textcat': 46.3858876276621}\n",
      "{'textcat': 46.71260501691422}\n",
      "{'textcat': 47.03156587107202}\n",
      "{'textcat': 47.35415146875756}\n",
      "{'textcat': 47.679515769911376}\n",
      "{'textcat': 48.00294406215392}\n",
      "{'textcat': 48.326251572027644}\n",
      "{'textcat': 48.646016467138075}\n",
      "{'textcat': 48.968675839355285}\n",
      "{'textcat': 49.28962067827685}\n",
      "{'textcat': 49.61032658099282}\n",
      "{'textcat': 49.93116445932354}\n",
      "{'textcat': 50.2497730257649}\n",
      "{'textcat': 50.56762272140149}\n",
      "{'textcat': 50.88529147744584}\n",
      "{'textcat': 51.20506175728565}\n",
      "{'textcat': 51.52390232891061}\n",
      "{'textcat': 51.843612449766255}\n",
      "{'textcat': 52.164052668566626}\n",
      "{'textcat': 52.48303371838727}\n",
      "{'textcat': 52.79997247191796}\n",
      "{'textcat': 53.116268663585906}\n",
      "{'textcat': 53.433673233242416}\n",
      "{'textcat': 53.752836261055556}\n",
      "{'textcat': 54.069931347842136}\n",
      "{'textcat': 54.386626900359985}\n",
      "{'textcat': 54.708872462750385}\n",
      "{'textcat': 55.02336283890148}\n",
      "{'textcat': 55.34079558546572}\n",
      "{'textcat': 55.65811346372752}\n",
      "{'textcat': 55.9730541213435}\n",
      "{'textcat': 56.289096872624626}\n",
      "{'textcat': 56.60701509323101}\n",
      "{'textcat': 56.92408392790614}\n",
      "{'textcat': 57.239826561445646}\n",
      "{'textcat': 57.55509800845919}\n",
      "{'textcat': 57.87069088231331}\n",
      "{'textcat': 58.183809161118376}\n",
      "{'textcat': 58.50383392940036}\n",
      "{'textcat': 58.81877748452534}\n",
      "{'textcat': 59.13455509443394}\n",
      "{'textcat': 59.44931791013995}\n",
      "{'textcat': 59.76607244292163}\n",
      "{'textcat': 60.08159642366672}\n",
      "{'textcat': 60.39579490675203}\n",
      "{'textcat': 60.70920056878589}\n",
      "{'textcat': 61.02239159121801}\n",
      "{'textcat': 61.335282979253236}\n",
      "{'textcat': 61.6510818861702}\n",
      "{'textcat': 61.965455807531534}\n",
      "{'textcat': 62.282570644749505}\n",
      "{'textcat': 62.598249586527636}\n",
      "{'textcat': 62.911470613493016}\n",
      "{'textcat': 63.225262560039}\n",
      "{'textcat': 63.539187819578785}\n",
      "{'textcat': 63.852887691442774}\n",
      "{'textcat': 64.16862369492475}\n",
      "{'textcat': 64.48311577748728}\n",
      "{'textcat': 64.79880977906839}\n",
      "{'textcat': 65.11441254179387}\n",
      "{'textcat': 65.42974542083931}\n",
      "{'textcat': 65.74375319319073}\n",
      "{'textcat': 66.05935137138401}\n",
      "{'textcat': 66.37058602872757}\n",
      "{'textcat': 66.69035371207525}\n",
      "{'textcat': 67.01155761432295}\n",
      "{'textcat': 67.32483632844435}\n",
      "{'textcat': 67.63852360677309}\n",
      "{'textcat': 67.95100856552051}\n",
      "{'textcat': 68.26355463842502}\n",
      "{'textcat': 68.57736030898866}\n",
      "{'textcat': 68.88924054356316}\n",
      "{'textcat': 69.20709551746673}\n",
      "{'textcat': 69.51875556297891}\n",
      "{'textcat': 69.83326324287928}\n",
      "{'textcat': 70.1487434044482}\n",
      "{'textcat': 70.46145441600133}\n",
      "{'textcat': 70.77389683340978}\n",
      "{'textcat': 71.08807108225895}\n",
      "{'textcat': 71.40069773882685}\n",
      "{'textcat': 71.71383236629836}\n",
      "{'textcat': 72.02814164149342}\n",
      "{'textcat': 72.3398170655555}\n",
      "{'textcat': 72.65202483031632}\n",
      "{'textcat': 72.96483970243902}\n",
      "{'textcat': 73.2757262126819}\n",
      "{'textcat': 73.58810856013766}\n",
      "{'textcat': 73.90201879019277}\n",
      "{'textcat': 74.21413457556615}\n",
      "{'textcat': 74.53268482414049}\n",
      "{'textcat': 74.84373520761211}\n",
      "{'textcat': 75.15601809741236}\n",
      "{'textcat': 75.46588597613007}\n",
      "{'textcat': 75.77848566950605}\n",
      "{'textcat': 76.09204823247948}\n",
      "{'textcat': 76.40930093590568}\n",
      "{'textcat': 76.7211802693673}\n",
      "{'textcat': 77.03316528538298}\n",
      "{'textcat': 77.34538057941722}\n",
      "{'textcat': 77.65872204927942}\n",
      "{'textcat': 77.96868789041734}\n",
      "{'textcat': 78.27967047801971}\n",
      "{'textcat': 78.59226882944793}\n",
      "{'textcat': 78.90397774917963}\n",
      "{'textcat': 79.21525741521799}\n",
      "{'textcat': 79.53709995040506}\n",
      "{'textcat': 79.85165433098109}\n",
      "{'textcat': 80.16121227632433}\n",
      "{'textcat': 80.47519260606815}\n",
      "{'textcat': 80.787116723915}\n",
      "{'textcat': 81.09921566993029}\n",
      "{'textcat': 81.40956286715874}\n",
      "{'textcat': 81.71995035362735}\n",
      "{'textcat': 82.03271209884599}\n",
      "{'textcat': 82.35087714867502}\n",
      "{'textcat': 82.66170285103465}\n",
      "{'textcat': 82.97379498157375}\n",
      "{'textcat': 83.28600032479058}\n",
      "{'textcat': 83.59766538825966}\n",
      "{'textcat': 83.90902497758415}\n",
      "{'textcat': 84.21895559421492}\n",
      "{'textcat': 84.5314920589459}\n",
      "{'textcat': 84.84278194463685}\n",
      "{'textcat': 85.15405782173394}\n",
      "{'textcat': 85.46431389919424}\n",
      "{'textcat': 85.77624968003188}\n",
      "{'textcat': 86.08790968087607}\n",
      "{'textcat': 86.39984486192702}\n",
      "{'textcat': 86.70958054358361}\n",
      "{'textcat': 87.01985290874671}\n",
      "{'textcat': 87.33219544234629}\n",
      "{'textcat': 87.64277230298309}\n",
      "{'textcat': 87.95628439625608}\n",
      "{'textcat': 88.26485133854538}\n",
      "{'textcat': 88.57625712846732}\n",
      "{'textcat': 88.88647131588664}\n",
      "{'textcat': 89.19379719520124}\n",
      "{'textcat': 89.50415241477306}\n",
      "{'textcat': 89.81957210895744}\n",
      "{'textcat': 90.13131204680484}\n",
      "{'textcat': 90.44300490671269}\n",
      "{'textcat': 90.75377287987942}\n",
      "{'textcat': 91.06416887913308}\n",
      "{'textcat': 91.37575044157484}\n",
      "{'textcat': 91.69734346706511}\n",
      "{'textcat': 92.01322773014878}\n",
      "{'textcat': 92.32294217339503}\n",
      "{'textcat': 92.63247656114564}\n",
      "{'textcat': 92.94567792833473}\n",
      "{'textcat': 93.25642532932379}\n",
      "{'textcat': 93.56930878523855}\n",
      "{'textcat': 93.88025695741456}\n",
      "{'textcat': 94.19273811120323}\n",
      "{'textcat': 94.5030217692762}\n",
      "{'textcat': 94.81590983853975}\n",
      "{'textcat': 95.12533461521146}\n",
      "{'textcat': 95.43754986868768}\n",
      "{'textcat': 95.75064106888969}\n",
      "{'textcat': 96.06349961436982}\n",
      "{'textcat': 96.37691209499977}\n",
      "{'textcat': 96.6884971079766}\n",
      "{'textcat': 96.99959473052012}\n",
      "{'textcat': 97.31308744541737}\n",
      "{'textcat': 97.63312985577087}\n",
      "{'textcat': 97.94146902582895}\n",
      "{'textcat': 98.25215110099663}\n",
      "{'textcat': 98.56251427632769}\n",
      "{'textcat': 98.87436460494403}\n",
      "{'textcat': 99.18646171805152}\n",
      "{'textcat': 99.49604616701123}\n",
      "{'textcat': 99.8038490963569}\n",
      "{'textcat': 100.11670611893861}\n",
      "{'textcat': 100.42678354003326}\n",
      "{'textcat': 100.73745744165788}\n",
      "{'textcat': 101.05066298233719}\n",
      "{'textcat': 101.36106182150846}\n",
      "{'textcat': 101.67186176253917}\n",
      "{'textcat': 101.9823851311522}\n",
      "{'textcat': 102.29367383934355}\n",
      "{'textcat': 102.60335837482589}\n",
      "{'textcat': 102.91322672698249}\n",
      "{'textcat': 103.22321328520258}\n",
      "{'textcat': 103.53258056875598}\n",
      "{'textcat': 103.8436762298706}\n",
      "{'textcat': 104.15091925634749}\n",
      "{'textcat': 104.46345115516242}\n",
      "{'textcat': 104.7759002387907}\n",
      "{'textcat': 105.08687235941491}\n",
      "{'textcat': 105.39623322884053}\n",
      "{'textcat': 105.70635984245342}\n",
      "{'textcat': 106.01611249853211}\n",
      "{'textcat': 106.32506672522302}\n",
      "{'textcat': 106.63513706301889}\n",
      "{'textcat': 106.9472412988172}\n",
      "{'textcat': 107.26272107215188}\n",
      "{'textcat': 107.57248933489356}\n",
      "{'textcat': 107.88113518682282}\n",
      "{'textcat': 108.19183928947147}\n",
      "{'textcat': 108.5052254175234}\n",
      "{'textcat': 108.81415500209718}\n",
      "{'textcat': 109.12474775690333}\n",
      "{'textcat': 109.43796981376784}\n",
      "{'textcat': 109.74752744644263}\n",
      "{'textcat': 110.0614697749965}\n",
      "{'textcat': 110.37094082477594}\n",
      "{'textcat': 110.68294093006575}\n",
      "{'textcat': 110.9992189091447}\n",
      "{'textcat': 111.31088831819571}\n",
      "{'textcat': 111.62119473921447}\n",
      "{'textcat': 111.93316728899343}\n",
      "{'textcat': 112.24483510147722}\n",
      "{'textcat': 112.56275939507225}\n",
      "{'textcat': 112.87046433389257}\n",
      "{'textcat': 113.1859289240813}\n",
      "{'textcat': 113.49771490075221}\n",
      "{'textcat': 113.80795630746296}\n",
      "{'textcat': 114.11727690913737}\n",
      "{'textcat': 114.42859802240858}\n",
      "{'textcat': 114.73978908822656}\n",
      "{'textcat': 115.0581286460792}\n",
      "{'textcat': 115.36698200838718}\n",
      "{'textcat': 115.67653873754483}\n",
      "{'textcat': 115.98894199837596}\n",
      "{'textcat': 116.30102337320587}\n",
      "{'textcat': 116.60836098740646}\n",
      "{'textcat': 116.91761694427471}\n",
      "{'textcat': 117.22756926868605}\n",
      "{'textcat': 117.53728623120274}\n",
      "{'textcat': 117.84727947653913}\n",
      "{'textcat': 118.15746683629325}\n",
      "{'textcat': 118.46862528081721}\n",
      "{'textcat': 118.78000939925626}\n",
      "{'textcat': 119.09032933505699}\n",
      "{'textcat': 119.40200351839763}\n",
      "{'textcat': 119.70984306260422}\n",
      "{'textcat': 120.02019066664619}\n",
      "{'textcat': 120.32883081989243}\n",
      "{'textcat': 120.63813365955741}\n",
      "{'textcat': 120.95948811092659}\n",
      "{'textcat': 121.2673411822498}\n",
      "{'textcat': 121.57829368885564}\n",
      "{'textcat': 121.887327878783}\n",
      "{'textcat': 122.19455610128108}\n",
      "{'textcat': 122.50430307346176}\n",
      "{'textcat': 122.82296776033277}\n",
      "{'textcat': 123.13241775516519}\n",
      "{'textcat': 123.44397946578158}\n",
      "{'textcat': 123.75412293078797}\n",
      "{'textcat': 124.06313758860821}\n",
      "{'textcat': 124.37071366652683}\n",
      "{'textcat': 124.68080504045498}\n",
      "{'textcat': 124.99215046079155}\n",
      "{'textcat': 125.30226067202396}\n",
      "{'textcat': 125.60993613192063}\n",
      "{'textcat': 125.92209928102089}\n",
      "{'textcat': 126.23271941683694}\n",
      "{'textcat': 126.54221658427818}\n",
      "{'textcat': 126.85257552851539}\n",
      "{'textcat': 127.1607444074663}\n",
      "{'textcat': 127.47055196418098}\n",
      "{'textcat': 127.79363774054535}\n",
      "{'textcat': 128.10127979946034}\n",
      "{'textcat': 128.41112033747635}\n",
      "{'textcat': 128.7208691506887}\n",
      "{'textcat': 129.02947329954551}\n",
      "{'textcat': 129.34014766578616}\n",
      "{'textcat': 129.65277598336849}\n",
      "{'textcat': 129.96164127878023}\n",
      "{'textcat': 130.2717696858139}\n",
      "{'textcat': 130.58233393463607}\n",
      "{'textcat': 130.8926980172144}\n",
      "{'textcat': 131.20138675554207}\n",
      "{'textcat': 131.51047032758834}\n",
      "{'textcat': 131.82100697863734}\n",
      "{'textcat': 132.12864386488613}\n",
      "{'textcat': 132.4355956370963}\n",
      "{'textcat': 132.7475973979886}\n",
      "{'textcat': 133.06308883180793}\n",
      "{'textcat': 133.37432416902047}\n",
      "{'textcat': 133.68491700323796}\n",
      "{'textcat': 133.99627645911218}\n",
      "{'textcat': 134.30232367514998}\n",
      "{'textcat': 134.61207268275578}\n",
      "{'textcat': 134.92325962000663}\n",
      "{'textcat': 135.2350857275625}\n",
      "{'textcat': 135.5442603176581}\n",
      "{'textcat': 135.8520047319611}\n",
      "{'textcat': 136.1614896827045}\n",
      "{'textcat': 136.47248818469652}\n",
      "{'textcat': 136.78040495032084}\n",
      "{'textcat': 137.0912020854297}\n",
      "{'textcat': 137.40138122103764}\n",
      "{'textcat': 137.71147457219683}\n",
      "{'textcat': 138.02188306062735}\n",
      "{'textcat': 138.33071850886938}\n",
      "{'textcat': 138.6388439110354}\n",
      "{'textcat': 138.95431473387237}\n",
      "{'textcat': 139.2636985916385}\n",
      "{'textcat': 139.57246863990628}\n",
      "{'textcat': 139.87934332286284}\n",
      "{'textcat': 140.18912528342221}\n",
      "{'textcat': 140.5007122885078}\n",
      "{'textcat': 140.81155541203844}\n",
      "{'textcat': 141.12407875975103}\n",
      "{'textcat': 141.4419206930723}\n",
      "{'textcat': 141.75073899830443}\n",
      "{'textcat': 142.06189324690962}\n",
      "{'textcat': 142.37146997539418}\n",
      "{'textcat': 142.67960378742617}\n",
      "{'textcat': 142.98956903962275}\n",
      "{'textcat': 143.29722845119156}\n",
      "{'textcat': 143.60874218740122}\n",
      "{'textcat': 143.91730515582142}\n",
      "{'textcat': 144.22545605444535}\n",
      "{'textcat': 144.53191242689573}\n",
      "{'textcat': 144.8421757328942}\n",
      "{'textcat': 145.15288384192914}\n",
      "{'textcat': 145.4621797536704}\n",
      "{'textcat': 145.7729600205366}\n",
      "{'textcat': 146.07933027326428}\n",
      "{'textcat': 146.39062102194725}\n",
      "{'textcat': 146.69957133106166}\n",
      "{'textcat': 147.00921348325716}\n",
      "{'textcat': 147.31663907956414}\n",
      "{'textcat': 147.6256209386109}\n",
      "{'textcat': 147.93688585725508}\n",
      "{'textcat': 148.25565180701827}\n",
      "{'textcat': 148.5736428112067}\n",
      "{'textcat': 148.88472309830956}\n",
      "{'textcat': 149.19591165553396}\n",
      "{'textcat': 149.50481554424198}\n",
      "{'textcat': 149.81411761137412}\n",
      "{'textcat': 150.12437158087766}\n",
      "{'textcat': 150.43577006639447}\n",
      "{'textcat': 150.74440038394945}\n",
      "{'textcat': 151.0541049543494}\n",
      "{'textcat': 151.36440158372778}\n",
      "{'textcat': 151.67676246678485}\n",
      "{'textcat': 151.9856493207896}\n",
      "{'textcat': 152.29540916015267}\n",
      "{'textcat': 152.60973023806523}\n",
      "{'textcat': 152.92159254542133}\n",
      "{'textcat': 153.22966197433988}\n",
      "{'textcat': 153.53760247968813}\n",
      "{'textcat': 153.84713860669893}\n",
      "{'textcat': 154.16047340374664}\n",
      "{'textcat': 154.471984032962}\n",
      "{'textcat': 154.78027116017014}\n",
      "{'textcat': 155.08978999719545}\n",
      "{'textcat': 155.40450450383258}\n",
      "{'textcat': 155.71285338810924}\n",
      "{'textcat': 156.02142349575666}\n",
      "{'textcat': 156.3292808499783}\n",
      "{'textcat': 156.63948297673377}\n",
      "{'textcat': 156.94910190485749}\n",
      "{'textcat': 157.25555505749827}\n",
      "{'textcat': 157.5662756377225}\n",
      "{'textcat': 157.87540532340233}\n",
      "{'textcat': 158.18394632249752}\n",
      "{'textcat': 158.4993317812305}\n",
      "{'textcat': 158.8089592181312}\n",
      "{'textcat': 159.11798440045376}\n",
      "{'textcat': 159.4260806187607}\n",
      "{'textcat': 159.73780723040778}\n",
      "{'textcat': 160.0454742083698}\n",
      "{'textcat': 160.35266289729424}\n",
      "{'textcat': 160.6641279658727}\n",
      "{'textcat': 160.97371675034324}\n",
      "{'textcat': 161.28451489664036}\n",
      "{'textcat': 161.59380538516112}\n",
      "{'textcat': 161.9043358782087}\n",
      "{'textcat': 162.2136260408018}\n",
      "{'textcat': 162.5238592169245}\n",
      "{'textcat': 162.83121966958564}\n",
      "{'textcat': 163.14983701811667}\n",
      "{'textcat': 163.45874313992985}\n",
      "{'textcat': 163.7686430895675}\n",
      "{'textcat': 164.07631586135952}\n",
      "{'textcat': 164.3862149477922}\n",
      "{'textcat': 164.69433971067184}\n",
      "{'textcat': 165.00344709072255}\n",
      "{'textcat': 165.31163378069382}\n",
      "{'textcat': 165.62021453906516}\n",
      "{'textcat': 165.92831774309323}\n",
      "{'textcat': 166.23880343155537}\n",
      "{'textcat': 166.5476305915252}\n",
      "{'textcat': 166.85608171439944}\n",
      "{'textcat': 167.1661050595083}\n",
      "{'textcat': 167.47455078638257}\n",
      "{'textcat': 167.78331658724844}\n",
      "{'textcat': 168.0905723826089}\n",
      "{'textcat': 168.39923369041077}\n",
      "{'textcat': 168.70773174273285}\n",
      "{'textcat': 169.0201466714662}\n",
      "{'textcat': 169.33200380083738}\n",
      "{'textcat': 169.63999101101837}\n",
      "{'textcat': 169.95361470933247}\n",
      "{'textcat': 170.26512041700167}\n",
      "{'textcat': 170.5748190281142}\n",
      "{'textcat': 170.88486707179752}\n",
      "{'textcat': 171.1918797919314}\n",
      "{'textcat': 171.501775360525}\n",
      "{'textcat': 171.81199988314847}\n",
      "{'textcat': 172.11996232148493}\n",
      "{'textcat': 172.43072416874412}\n",
      "{'textcat': 172.74008781810232}\n",
      "{'textcat': 173.05006107880735}\n",
      "{'textcat': 173.36400403567933}\n",
      "{'textcat': 173.67289390665263}\n",
      "{'textcat': 173.9816936612676}\n",
      "{'textcat': 174.29104598770843}\n",
      "{'textcat': 174.60143142276056}\n",
      "{'textcat': 174.91649571641523}\n",
      "{'textcat': 175.22451235761295}\n",
      "{'textcat': 175.53257188339126}\n",
      "{'textcat': 175.84172979546815}\n",
      "{'textcat': 176.1568777978743}\n",
      "{'textcat': 176.46721089757605}\n",
      "{'textcat': 176.77806423685595}\n",
      "{'textcat': 177.08565740967552}\n",
      "{'textcat': 177.39426777682186}\n",
      "{'textcat': 177.70218446884803}\n",
      "{'textcat': 178.01062232885872}\n",
      "{'textcat': 178.32125140094047}\n",
      "{'textcat': 178.63069616992695}\n",
      "{'textcat': 178.9403602539423}\n",
      "{'textcat': 179.2497666044097}\n",
      "{'textcat': 179.55817934997108}\n",
      "{'textcat': 179.8694083410721}\n",
      "{'textcat': 180.1755416563806}\n",
      "{'textcat': 180.4840079502426}\n"
     ]
    }
   ],
   "source": [
    "random.seed(1)\n",
    "spacy.util.fix_random_seed(1)\n",
    "optimizer = nlp.begin_training()\n",
    "losses = {}\n",
    "for epoch in range(500):\n",
    "    random.shuffle(train_classifier_data)\n",
    "    # Create the batch generator with batch size = 8\n",
    "    batches = spacy.util.minibatch(train_classifier_data, size=8)\n",
    "    # Iterate through minibatches\n",
    "    for batch in batches:\n",
    "        # Each batch is a list of (text, label) but we need to\n",
    "        # send separate lists for texts and labels to update().\n",
    "        # This is a quick way to split a list of tuples into lists\n",
    "        texts, labels = zip(*batch)\n",
    "        nlp.update(texts, labels, sgd=optimizer, losses=losses)\n",
    "    print(losses)\n"
   ]
  },
  {
   "cell_type": "code",
   "execution_count": 18,
   "id": "contained-content",
   "metadata": {
    "execution": {
     "iopub.execute_input": "2021-05-27T05:16:28.763858Z",
     "iopub.status.busy": "2021-05-27T05:16:28.762936Z",
     "iopub.status.idle": "2021-05-27T05:16:28.767104Z",
     "shell.execute_reply": "2021-05-27T05:16:28.766496Z",
     "shell.execute_reply.started": "2021-05-27T04:17:32.232174Z"
    },
    "papermill": {
     "duration": 0.184463,
     "end_time": "2021-05-27T05:16:28.767235",
     "exception": false,
     "start_time": "2021-05-27T05:16:28.582772",
     "status": "completed"
    },
    "tags": []
   },
   "outputs": [
    {
     "data": {
      "text/plain": [
       "array(['happened terrible car crash',\n",
       "       'heard earthquake different city stay safe everyone',\n",
       "       'forest fire spot pond goose fleeing across street cannot save',\n",
       "       ..., 'green line derailment chicago',\n",
       "       'meg issue hazardous weather outlook hwo',\n",
       "       'cityofcalgary activated municipal emergency plan yycstorm'],\n",
       "      dtype=object)"
      ]
     },
     "execution_count": 18,
     "metadata": {},
     "output_type": "execute_result"
    }
   ],
   "source": [
    "test_data['preprocessed_data'].values"
   ]
  },
  {
   "cell_type": "code",
   "execution_count": 19,
   "id": "controlled-sussex",
   "metadata": {
    "execution": {
     "iopub.execute_input": "2021-05-27T05:16:29.136569Z",
     "iopub.status.busy": "2021-05-27T05:16:29.131217Z",
     "iopub.status.idle": "2021-05-27T05:16:29.481818Z",
     "shell.execute_reply": "2021-05-27T05:16:29.481219Z",
     "shell.execute_reply.started": "2021-05-27T04:17:32.239161Z"
    },
    "papermill": {
     "duration": 0.538645,
     "end_time": "2021-05-27T05:16:29.481956",
     "exception": false,
     "start_time": "2021-05-27T05:16:28.943311",
     "status": "completed"
    },
    "tags": []
   },
   "outputs": [],
   "source": [
    "docs = [nlp.tokenizer(text) for text in test_data['preprocessed_data'].values]"
   ]
  },
  {
   "cell_type": "code",
   "execution_count": 20,
   "id": "exact-valuable",
   "metadata": {
    "execution": {
     "iopub.execute_input": "2021-05-27T05:16:29.862653Z",
     "iopub.status.busy": "2021-05-27T05:16:29.861995Z",
     "iopub.status.idle": "2021-05-27T05:16:29.865802Z",
     "shell.execute_reply": "2021-05-27T05:16:29.865160Z",
     "shell.execute_reply.started": "2021-05-27T04:17:32.508284Z"
    },
    "papermill": {
     "duration": 0.208386,
     "end_time": "2021-05-27T05:16:29.865944",
     "exception": false,
     "start_time": "2021-05-27T05:16:29.657558",
     "status": "completed"
    },
    "tags": []
   },
   "outputs": [
    {
     "data": {
      "text/plain": [
       "[happened terrible car crash,\n",
       " heard earthquake different city stay safe everyone,\n",
       " forest fire spot pond goose fleeing across street cannot save,\n",
       " apocalypse lighting spokane wildfire,\n",
       " typhoon soudelor kill china taiwan,\n",
       " shaking earthquake,\n",
       " probably still show life arsenal yesterday eh eh,\n",
       " hey,\n",
       " nice hat,\n",
       " fuck,\n",
       " like cold,\n",
       " nooooooooo,\n",
       " tell,\n",
       " ,\n",
       " awesome,\n",
       " birmingham wholesale market ablaze bbc news fire break birmingham wholesale market,\n",
       " sunkxssedharry wear short race ablaze,\n",
       " previouslyondoyintv toke makinwa marriage crisis set nigerian twitter ablaze,\n",
       " check nsfw,\n",
       " psa splitting personality techie follow ablaze co burner follow ablaze]"
      ]
     },
     "execution_count": 20,
     "metadata": {},
     "output_type": "execute_result"
    }
   ],
   "source": [
    "docs[:20]"
   ]
  },
  {
   "cell_type": "code",
   "execution_count": 21,
   "id": "double-london",
   "metadata": {
    "execution": {
     "iopub.execute_input": "2021-05-27T05:16:30.223066Z",
     "iopub.status.busy": "2021-05-27T05:16:30.222425Z",
     "iopub.status.idle": "2021-05-27T05:16:30.365338Z",
     "shell.execute_reply": "2021-05-27T05:16:30.364524Z",
     "shell.execute_reply.started": "2021-05-27T04:17:32.516412Z"
    },
    "papermill": {
     "duration": 0.325343,
     "end_time": "2021-05-27T05:16:30.365525",
     "exception": false,
     "start_time": "2021-05-27T05:16:30.040182",
     "status": "completed"
    },
    "tags": []
   },
   "outputs": [
    {
     "name": "stdout",
     "output_type": "stream",
     "text": [
      "[[3.3082995e-01 6.6917008e-01]\n",
      " [8.7195075e-01 1.2804930e-01]\n",
      " [9.9998057e-01 1.9395806e-05]\n",
      " ...\n",
      " [9.7841644e-01 2.1583537e-02]\n",
      " [9.9374419e-01 6.2558781e-03]\n",
      " [9.8352814e-01 1.6471876e-02]]\n"
     ]
    }
   ],
   "source": [
    "# Use textcat to get the scores for each doc\n",
    "textcat = nlp.get_pipe('textcat')\n",
    "scores, _ = textcat.predict(docs)\n",
    "print(scores)\n"
   ]
  },
  {
   "cell_type": "code",
   "execution_count": 22,
   "id": "aggressive-clark",
   "metadata": {
    "execution": {
     "iopub.execute_input": "2021-05-27T05:16:30.725003Z",
     "iopub.status.busy": "2021-05-27T05:16:30.724196Z",
     "iopub.status.idle": "2021-05-27T05:16:30.727530Z",
     "shell.execute_reply": "2021-05-27T05:16:30.728060Z",
     "shell.execute_reply.started": "2021-05-27T04:17:32.636680Z"
    },
    "papermill": {
     "duration": 0.187153,
     "end_time": "2021-05-27T05:16:30.728218",
     "exception": false,
     "start_time": "2021-05-27T05:16:30.541065",
     "status": "completed"
    },
    "tags": []
   },
   "outputs": [
    {
     "data": {
      "text/plain": [
       "(3263, 2)"
      ]
     },
     "execution_count": 22,
     "metadata": {},
     "output_type": "execute_result"
    }
   ],
   "source": [
    "scores.shape"
   ]
  },
  {
   "cell_type": "code",
   "execution_count": 23,
   "id": "twenty-exposure",
   "metadata": {
    "execution": {
     "iopub.execute_input": "2021-05-27T05:16:31.084402Z",
     "iopub.status.busy": "2021-05-27T05:16:31.083748Z",
     "iopub.status.idle": "2021-05-27T05:16:31.086213Z",
     "shell.execute_reply": "2021-05-27T05:16:31.086708Z",
     "shell.execute_reply.started": "2021-05-27T04:17:32.645650Z"
    },
    "papermill": {
     "duration": 0.183137,
     "end_time": "2021-05-27T05:16:31.086870",
     "exception": false,
     "start_time": "2021-05-27T05:16:30.903733",
     "status": "completed"
    },
    "tags": []
   },
   "outputs": [
    {
     "data": {
      "text/plain": [
       "array([1, 0, 0, 0, 0, 0, 1, 1, 1, 1])"
      ]
     },
     "execution_count": 23,
     "metadata": {},
     "output_type": "execute_result"
    }
   ],
   "source": [
    "# From the scores, find the label with the highest score/probability\n",
    "predicted_labels = scores.argmax(axis=1)\n",
    "#print([textcat.labels[label] for label in predicted_labels])\n",
    "#['Disaster', 'Not_Disaster']\n",
    "predicted_labels[:10]"
   ]
  },
  {
   "cell_type": "code",
   "execution_count": 24,
   "id": "atomic-vienna",
   "metadata": {
    "execution": {
     "iopub.execute_input": "2021-05-27T05:16:31.439464Z",
     "iopub.status.busy": "2021-05-27T05:16:31.438797Z",
     "iopub.status.idle": "2021-05-27T05:16:31.447056Z",
     "shell.execute_reply": "2021-05-27T05:16:31.447573Z",
     "shell.execute_reply.started": "2021-05-27T04:17:32.658233Z"
    },
    "papermill": {
     "duration": 0.186227,
     "end_time": "2021-05-27T05:16:31.447734",
     "exception": false,
     "start_time": "2021-05-27T05:16:31.261507",
     "status": "completed"
    },
    "tags": []
   },
   "outputs": [
    {
     "data": {
      "text/plain": [
       "id        3263\n",
       "target    3263\n",
       "dtype: int64"
      ]
     },
     "execution_count": 24,
     "metadata": {},
     "output_type": "execute_result"
    }
   ],
   "source": [
    "my_submission_v_1 = pd.DataFrame({'id':test_data['id'].values, 'target':predicted_labels})\n",
    "my_submission_v_1.count()"
   ]
  },
  {
   "cell_type": "code",
   "execution_count": 25,
   "id": "greatest-brave",
   "metadata": {
    "execution": {
     "iopub.execute_input": "2021-05-27T05:16:31.799935Z",
     "iopub.status.busy": "2021-05-27T05:16:31.799332Z",
     "iopub.status.idle": "2021-05-27T05:16:31.805993Z",
     "shell.execute_reply": "2021-05-27T05:16:31.805500Z",
     "shell.execute_reply.started": "2021-05-27T04:17:32.675417Z"
    },
    "papermill": {
     "duration": 0.183994,
     "end_time": "2021-05-27T05:16:31.806136",
     "exception": false,
     "start_time": "2021-05-27T05:16:31.622142",
     "status": "completed"
    },
    "tags": []
   },
   "outputs": [],
   "source": [
    "test_data['predicted_target'] = predicted_labels.tolist()"
   ]
  },
  {
   "cell_type": "code",
   "execution_count": 26,
   "id": "stylish-conservation",
   "metadata": {
    "execution": {
     "iopub.execute_input": "2021-05-27T05:16:32.163928Z",
     "iopub.status.busy": "2021-05-27T05:16:32.163200Z",
     "iopub.status.idle": "2021-05-27T05:16:32.177125Z",
     "shell.execute_reply": "2021-05-27T05:16:32.178161Z",
     "shell.execute_reply.started": "2021-05-27T04:17:32.686233Z"
    },
    "papermill": {
     "duration": 0.195123,
     "end_time": "2021-05-27T05:16:32.178414",
     "exception": false,
     "start_time": "2021-05-27T05:16:31.983291",
     "status": "completed"
    },
    "tags": []
   },
   "outputs": [
    {
     "name": "stdout",
     "output_type": "stream",
     "text": [
      "Your submission was successfully saved!\n"
     ]
    }
   ],
   "source": [
    "my_submission_v_1.to_csv('my_submission_v_1.6.csv', index=False)\n",
    "print(\"Your submission was successfully saved!\")"
   ]
  }
 ],
 "metadata": {
  "kernelspec": {
   "display_name": "Python 3",
   "language": "python",
   "name": "python3"
  },
  "language_info": {
   "codemirror_mode": {
    "name": "ipython",
    "version": 3
   },
   "file_extension": ".py",
   "mimetype": "text/x-python",
   "name": "python",
   "nbconvert_exporter": "python",
   "pygments_lexer": "ipython3",
   "version": "3.7.10"
  },
  "papermill": {
   "default_parameters": {},
   "duration": 3059.880994,
   "end_time": "2021-05-27T05:16:33.873088",
   "environment_variables": {},
   "exception": null,
   "input_path": "__notebook__.ipynb",
   "output_path": "__notebook__.ipynb",
   "parameters": {},
   "start_time": "2021-05-27T04:25:33.992094",
   "version": "2.3.3"
  }
 },
 "nbformat": 4,
 "nbformat_minor": 5
}
