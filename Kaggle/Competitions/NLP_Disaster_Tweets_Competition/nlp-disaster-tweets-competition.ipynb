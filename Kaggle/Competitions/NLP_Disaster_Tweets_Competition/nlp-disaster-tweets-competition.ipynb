{
 "cells": [
  {
   "cell_type": "code",
   "execution_count": 1,
   "id": "dietary-princess",
   "metadata": {
    "_cell_guid": "b1076dfc-b9ad-4769-8c92-a6c4dae69d19",
    "_uuid": "8f2839f25d086af736a60e9eeb907d3b93b6e0e5",
    "execution": {
     "iopub.execute_input": "2021-05-26T08:38:02.230862Z",
     "iopub.status.busy": "2021-05-26T08:38:02.229690Z",
     "iopub.status.idle": "2021-05-26T08:38:03.790999Z",
     "shell.execute_reply": "2021-05-26T08:38:03.791982Z",
     "shell.execute_reply.started": "2021-05-26T08:37:27.521998Z"
    },
    "papermill": {
     "duration": 1.585015,
     "end_time": "2021-05-26T08:38:03.792423",
     "exception": false,
     "start_time": "2021-05-26T08:38:02.207408",
     "status": "completed"
    },
    "tags": []
   },
   "outputs": [
    {
     "name": "stdout",
     "output_type": "stream",
     "text": [
      "/kaggle/input/nlp-getting-started/sample_submission.csv\n",
      "/kaggle/input/nlp-getting-started/train.csv\n",
      "/kaggle/input/nlp-getting-started/test.csv\n"
     ]
    }
   ],
   "source": [
    "# Import Statements\n",
    "\n",
    "import numpy as np # linear algebra\n",
    "import pandas as pd # data processing, CSV file I/O (e.g. pd.read_csv)\n",
    "import seaborn as sns\n",
    "import matplotlib.pyplot as plt\n",
    "import spacy\n",
    "import random\n",
    "\n",
    "# Input data files are available in the read-only \"../input/\" directory\n",
    "# For example, running this (by clicking run or pressing Shift+Enter) will list all files under the input directory\n",
    "\n",
    "import os\n",
    "for dirname, _, filenames in os.walk('/kaggle/input'):\n",
    "    for filename in filenames:\n",
    "        print(os.path.join(dirname, filename))\n",
    "\n",
    "# You can write up to 20GB to the current directory (/kaggle/working/) that gets preserved as output when you create a version using \"Save & Run All\" \n",
    "# You can also write temporary files to /kaggle/temp/, but they won't be saved outside of the current session"
   ]
  },
  {
   "cell_type": "code",
   "execution_count": 2,
   "id": "olympic-future",
   "metadata": {
    "execution": {
     "iopub.execute_input": "2021-05-26T08:38:03.835680Z",
     "iopub.status.busy": "2021-05-26T08:38:03.834941Z",
     "iopub.status.idle": "2021-05-26T08:38:03.904536Z",
     "shell.execute_reply": "2021-05-26T08:38:03.905051Z",
     "shell.execute_reply.started": "2021-05-26T08:37:27.532638Z"
    },
    "papermill": {
     "duration": 0.09332,
     "end_time": "2021-05-26T08:38:03.905221",
     "exception": false,
     "start_time": "2021-05-26T08:38:03.811901",
     "status": "completed"
    },
    "tags": []
   },
   "outputs": [
    {
     "data": {
      "text/html": [
       "<div>\n",
       "<style scoped>\n",
       "    .dataframe tbody tr th:only-of-type {\n",
       "        vertical-align: middle;\n",
       "    }\n",
       "\n",
       "    .dataframe tbody tr th {\n",
       "        vertical-align: top;\n",
       "    }\n",
       "\n",
       "    .dataframe thead th {\n",
       "        text-align: right;\n",
       "    }\n",
       "</style>\n",
       "<table border=\"1\" class=\"dataframe\">\n",
       "  <thead>\n",
       "    <tr style=\"text-align: right;\">\n",
       "      <th></th>\n",
       "      <th>id</th>\n",
       "      <th>keyword</th>\n",
       "      <th>location</th>\n",
       "      <th>text</th>\n",
       "      <th>target</th>\n",
       "    </tr>\n",
       "  </thead>\n",
       "  <tbody>\n",
       "    <tr>\n",
       "      <th>0</th>\n",
       "      <td>1</td>\n",
       "      <td>NaN</td>\n",
       "      <td>NaN</td>\n",
       "      <td>Our Deeds are the Reason of this #earthquake M...</td>\n",
       "      <td>1</td>\n",
       "    </tr>\n",
       "    <tr>\n",
       "      <th>1</th>\n",
       "      <td>4</td>\n",
       "      <td>NaN</td>\n",
       "      <td>NaN</td>\n",
       "      <td>Forest fire near La Ronge Sask. Canada</td>\n",
       "      <td>1</td>\n",
       "    </tr>\n",
       "    <tr>\n",
       "      <th>2</th>\n",
       "      <td>5</td>\n",
       "      <td>NaN</td>\n",
       "      <td>NaN</td>\n",
       "      <td>All residents asked to 'shelter in place' are ...</td>\n",
       "      <td>1</td>\n",
       "    </tr>\n",
       "    <tr>\n",
       "      <th>3</th>\n",
       "      <td>6</td>\n",
       "      <td>NaN</td>\n",
       "      <td>NaN</td>\n",
       "      <td>13,000 people receive #wildfires evacuation or...</td>\n",
       "      <td>1</td>\n",
       "    </tr>\n",
       "    <tr>\n",
       "      <th>4</th>\n",
       "      <td>7</td>\n",
       "      <td>NaN</td>\n",
       "      <td>NaN</td>\n",
       "      <td>Just got sent this photo from Ruby #Alaska as ...</td>\n",
       "      <td>1</td>\n",
       "    </tr>\n",
       "  </tbody>\n",
       "</table>\n",
       "</div>"
      ],
      "text/plain": [
       "   id keyword location                                               text  \\\n",
       "0   1     NaN      NaN  Our Deeds are the Reason of this #earthquake M...   \n",
       "1   4     NaN      NaN             Forest fire near La Ronge Sask. Canada   \n",
       "2   5     NaN      NaN  All residents asked to 'shelter in place' are ...   \n",
       "3   6     NaN      NaN  13,000 people receive #wildfires evacuation or...   \n",
       "4   7     NaN      NaN  Just got sent this photo from Ruby #Alaska as ...   \n",
       "\n",
       "   target  \n",
       "0       1  \n",
       "1       1  \n",
       "2       1  \n",
       "3       1  \n",
       "4       1  "
      ]
     },
     "execution_count": 2,
     "metadata": {},
     "output_type": "execute_result"
    }
   ],
   "source": [
    "# Load in the data from .csv file\n",
    "train_data = pd.read_csv('../input/nlp-getting-started/train.csv')\n",
    "train_data.head()"
   ]
  },
  {
   "cell_type": "code",
   "execution_count": 3,
   "id": "moral-appeal",
   "metadata": {
    "execution": {
     "iopub.execute_input": "2021-05-26T08:38:03.948675Z",
     "iopub.status.busy": "2021-05-26T08:38:03.948004Z",
     "iopub.status.idle": "2021-05-26T08:38:03.981740Z",
     "shell.execute_reply": "2021-05-26T08:38:03.981192Z",
     "shell.execute_reply.started": "2021-05-26T08:37:27.573157Z"
    },
    "papermill": {
     "duration": 0.057546,
     "end_time": "2021-05-26T08:38:03.981892",
     "exception": false,
     "start_time": "2021-05-26T08:38:03.924346",
     "status": "completed"
    },
    "tags": []
   },
   "outputs": [
    {
     "data": {
      "text/html": [
       "<div>\n",
       "<style scoped>\n",
       "    .dataframe tbody tr th:only-of-type {\n",
       "        vertical-align: middle;\n",
       "    }\n",
       "\n",
       "    .dataframe tbody tr th {\n",
       "        vertical-align: top;\n",
       "    }\n",
       "\n",
       "    .dataframe thead th {\n",
       "        text-align: right;\n",
       "    }\n",
       "</style>\n",
       "<table border=\"1\" class=\"dataframe\">\n",
       "  <thead>\n",
       "    <tr style=\"text-align: right;\">\n",
       "      <th></th>\n",
       "      <th>id</th>\n",
       "      <th>keyword</th>\n",
       "      <th>location</th>\n",
       "      <th>text</th>\n",
       "    </tr>\n",
       "  </thead>\n",
       "  <tbody>\n",
       "    <tr>\n",
       "      <th>0</th>\n",
       "      <td>0</td>\n",
       "      <td>NaN</td>\n",
       "      <td>NaN</td>\n",
       "      <td>Just happened a terrible car crash</td>\n",
       "    </tr>\n",
       "    <tr>\n",
       "      <th>1</th>\n",
       "      <td>2</td>\n",
       "      <td>NaN</td>\n",
       "      <td>NaN</td>\n",
       "      <td>Heard about #earthquake is different cities, s...</td>\n",
       "    </tr>\n",
       "    <tr>\n",
       "      <th>2</th>\n",
       "      <td>3</td>\n",
       "      <td>NaN</td>\n",
       "      <td>NaN</td>\n",
       "      <td>there is a forest fire at spot pond, geese are...</td>\n",
       "    </tr>\n",
       "    <tr>\n",
       "      <th>3</th>\n",
       "      <td>9</td>\n",
       "      <td>NaN</td>\n",
       "      <td>NaN</td>\n",
       "      <td>Apocalypse lighting. #Spokane #wildfires</td>\n",
       "    </tr>\n",
       "    <tr>\n",
       "      <th>4</th>\n",
       "      <td>11</td>\n",
       "      <td>NaN</td>\n",
       "      <td>NaN</td>\n",
       "      <td>Typhoon Soudelor kills 28 in China and Taiwan</td>\n",
       "    </tr>\n",
       "  </tbody>\n",
       "</table>\n",
       "</div>"
      ],
      "text/plain": [
       "   id keyword location                                               text\n",
       "0   0     NaN      NaN                 Just happened a terrible car crash\n",
       "1   2     NaN      NaN  Heard about #earthquake is different cities, s...\n",
       "2   3     NaN      NaN  there is a forest fire at spot pond, geese are...\n",
       "3   9     NaN      NaN           Apocalypse lighting. #Spokane #wildfires\n",
       "4  11     NaN      NaN      Typhoon Soudelor kills 28 in China and Taiwan"
      ]
     },
     "execution_count": 3,
     "metadata": {},
     "output_type": "execute_result"
    }
   ],
   "source": [
    "# Load in the data from .csv file\n",
    "test_data = pd.read_csv('../input/nlp-getting-started/test.csv')\n",
    "test_data.head()"
   ]
  },
  {
   "cell_type": "code",
   "execution_count": 4,
   "id": "insured-poverty",
   "metadata": {
    "execution": {
     "iopub.execute_input": "2021-05-26T08:38:04.030601Z",
     "iopub.status.busy": "2021-05-26T08:38:04.029846Z",
     "iopub.status.idle": "2021-05-26T08:38:04.216397Z",
     "shell.execute_reply": "2021-05-26T08:38:04.216975Z",
     "shell.execute_reply.started": "2021-05-26T08:37:27.594803Z"
    },
    "papermill": {
     "duration": 0.214598,
     "end_time": "2021-05-26T08:38:04.217156",
     "exception": false,
     "start_time": "2021-05-26T08:38:04.002558",
     "status": "completed"
    },
    "tags": []
   },
   "outputs": [
    {
     "data": {
      "text/plain": [
       "Text(0.5, 1.0, \"Count of NaN's in data\")"
      ]
     },
     "execution_count": 4,
     "metadata": {},
     "output_type": "execute_result"
    },
    {
     "data": {
      "image/png": "[encoded data removed]",
      "text/plain": [
       "<Figure size 432x288 with 1 Axes>"
      ]
     },
     "metadata": {
      "needs_background": "light"
     },
     "output_type": "display_data"
    }
   ],
   "source": [
    "# Evaluate Missing Values\n",
    "train_na_count = train_data.isna().sum()\n",
    "sns.barplot(x=train_na_count.values, y=train_na_count.index)\n",
    "plt.title(\"Count of NaN's in data\")"
   ]
  },
  {
   "cell_type": "code",
   "execution_count": 5,
   "id": "essential-blogger",
   "metadata": {
    "execution": {
     "iopub.execute_input": "2021-05-26T08:38:04.263062Z",
     "iopub.status.busy": "2021-05-26T08:38:04.262289Z",
     "iopub.status.idle": "2021-05-26T08:38:04.271968Z",
     "shell.execute_reply": "2021-05-26T08:38:04.272520Z",
     "shell.execute_reply.started": "2021-05-26T08:37:27.737008Z"
    },
    "papermill": {
     "duration": 0.034179,
     "end_time": "2021-05-26T08:38:04.272696",
     "exception": false,
     "start_time": "2021-05-26T08:38:04.238517",
     "status": "completed"
    },
    "tags": []
   },
   "outputs": [
    {
     "data": {
      "text/plain": [
       "id             0\n",
       "keyword       61\n",
       "location    2533\n",
       "text           0\n",
       "target         0\n",
       "dtype: int64"
      ]
     },
     "execution_count": 5,
     "metadata": {},
     "output_type": "execute_result"
    }
   ],
   "source": [
    "train_data.isna().sum()"
   ]
  },
  {
   "cell_type": "code",
   "execution_count": 6,
   "id": "banner-nothing",
   "metadata": {
    "execution": {
     "iopub.execute_input": "2021-05-26T08:38:04.318596Z",
     "iopub.status.busy": "2021-05-26T08:38:04.317770Z",
     "iopub.status.idle": "2021-05-26T08:38:04.326478Z",
     "shell.execute_reply": "2021-05-26T08:38:04.327117Z",
     "shell.execute_reply.started": "2021-05-26T08:37:27.749508Z"
    },
    "papermill": {
     "duration": 0.033441,
     "end_time": "2021-05-26T08:38:04.327311",
     "exception": false,
     "start_time": "2021-05-26T08:38:04.293870",
     "status": "completed"
    },
    "tags": []
   },
   "outputs": [
    {
     "data": {
      "text/plain": [
       "id             0\n",
       "keyword       26\n",
       "location    1105\n",
       "text           0\n",
       "dtype: int64"
      ]
     },
     "execution_count": 6,
     "metadata": {},
     "output_type": "execute_result"
    }
   ],
   "source": [
    "test_data.isna().sum()"
   ]
  },
  {
   "cell_type": "code",
   "execution_count": 7,
   "id": "induced-momentum",
   "metadata": {
    "execution": {
     "iopub.execute_input": "2021-05-26T08:38:04.374778Z",
     "iopub.status.busy": "2021-05-26T08:38:04.373942Z",
     "iopub.status.idle": "2021-05-26T08:38:04.386307Z",
     "shell.execute_reply": "2021-05-26T08:38:04.386879Z",
     "shell.execute_reply.started": "2021-05-26T08:37:27.764418Z"
    },
    "papermill": {
     "duration": 0.03746,
     "end_time": "2021-05-26T08:38:04.387060",
     "exception": false,
     "start_time": "2021-05-26T08:38:04.349600",
     "status": "completed"
    },
    "tags": []
   },
   "outputs": [
    {
     "data": {
      "text/plain": [
       "id          7613\n",
       "keyword     7552\n",
       "location    5080\n",
       "text        7613\n",
       "target      7613\n",
       "dtype: int64"
      ]
     },
     "execution_count": 7,
     "metadata": {},
     "output_type": "execute_result"
    }
   ],
   "source": [
    "train_data.count()\n"
   ]
  },
  {
   "cell_type": "code",
   "execution_count": 8,
   "id": "electoral-commander",
   "metadata": {
    "execution": {
     "iopub.execute_input": "2021-05-26T08:38:04.433941Z",
     "iopub.status.busy": "2021-05-26T08:38:04.432609Z",
     "iopub.status.idle": "2021-05-26T08:38:04.442389Z",
     "shell.execute_reply": "2021-05-26T08:38:04.443075Z",
     "shell.execute_reply.started": "2021-05-26T08:37:27.779256Z"
    },
    "papermill": {
     "duration": 0.035107,
     "end_time": "2021-05-26T08:38:04.443263",
     "exception": false,
     "start_time": "2021-05-26T08:38:04.408156",
     "status": "completed"
    },
    "tags": []
   },
   "outputs": [
    {
     "data": {
      "text/plain": [
       "id          3263\n",
       "keyword     3237\n",
       "location    2158\n",
       "text        3263\n",
       "dtype: int64"
      ]
     },
     "execution_count": 8,
     "metadata": {},
     "output_type": "execute_result"
    }
   ],
   "source": [
    "test_data.count()\n"
   ]
  },
  {
   "cell_type": "code",
   "execution_count": 9,
   "id": "pressed-jurisdiction",
   "metadata": {
    "execution": {
     "iopub.execute_input": "2021-05-26T08:38:04.490182Z",
     "iopub.status.busy": "2021-05-26T08:38:04.489531Z",
     "iopub.status.idle": "2021-05-26T08:38:04.973640Z",
     "shell.execute_reply": "2021-05-26T08:38:04.974216Z",
     "shell.execute_reply.started": "2021-05-26T08:37:27.788599Z"
    },
    "papermill": {
     "duration": 0.509021,
     "end_time": "2021-05-26T08:38:04.974392",
     "exception": false,
     "start_time": "2021-05-26T08:38:04.465371",
     "status": "completed"
    },
    "tags": []
   },
   "outputs": [],
   "source": [
    "# Create an empty model\n",
    "nlp = spacy.blank(\"en\")\n",
    "# Create the TextCategorizer with exclusive classes and \"bow\" architecture\n",
    "textcat = nlp.create_pipe(\n",
    "              \"textcat\",\n",
    "              config={\n",
    "                \"exclusive_classes\": True,\n",
    "                \"architecture\": \"bow\"})\n",
    "# Add the TextCategorizer to the empty model\n",
    "nlp.add_pipe(textcat)\n"
   ]
  },
  {
   "cell_type": "code",
   "execution_count": 10,
   "id": "decreased-tenant",
   "metadata": {
    "execution": {
     "iopub.execute_input": "2021-05-26T08:38:05.022002Z",
     "iopub.status.busy": "2021-05-26T08:38:05.020906Z",
     "iopub.status.idle": "2021-05-26T08:38:05.028598Z",
     "shell.execute_reply": "2021-05-26T08:38:05.029114Z",
     "shell.execute_reply.started": "2021-05-26T08:37:27.976051Z"
    },
    "papermill": {
     "duration": 0.033124,
     "end_time": "2021-05-26T08:38:05.029288",
     "exception": false,
     "start_time": "2021-05-26T08:38:04.996164",
     "status": "completed"
    },
    "tags": []
   },
   "outputs": [
    {
     "data": {
      "text/plain": [
       "1"
      ]
     },
     "execution_count": 10,
     "metadata": {},
     "output_type": "execute_result"
    }
   ],
   "source": [
    "# Add labels to text classifier\n",
    "textcat.add_label(\"Disaster\")\n",
    "textcat.add_label(\"Not_Disaster\")\n"
   ]
  },
  {
   "cell_type": "code",
   "execution_count": 11,
   "id": "subtle-cursor",
   "metadata": {
    "execution": {
     "iopub.execute_input": "2021-05-26T08:38:05.077050Z",
     "iopub.status.busy": "2021-05-26T08:38:05.076032Z",
     "iopub.status.idle": "2021-05-26T08:38:05.198864Z",
     "shell.execute_reply": "2021-05-26T08:38:05.198284Z",
     "shell.execute_reply.started": "2021-05-26T08:37:27.983260Z"
    },
    "papermill": {
     "duration": 0.147863,
     "end_time": "2021-05-26T08:38:05.199030",
     "exception": false,
     "start_time": "2021-05-26T08:38:05.051167",
     "status": "completed"
    },
    "tags": []
   },
   "outputs": [],
   "source": [
    "train_texts = train_data['text'].values\n",
    "train_labels = [{'cats': {'Disaster': target == 1,\n",
    "                          'Not_Disaster': target == 0}} \n",
    "                for target in train_data['target']]\n",
    "train_classifier_data = list(zip(train_texts, train_labels))"
   ]
  },
  {
   "cell_type": "code",
   "execution_count": 12,
   "id": "classical-adobe",
   "metadata": {
    "execution": {
     "iopub.execute_input": "2021-05-26T08:38:05.248466Z",
     "iopub.status.busy": "2021-05-26T08:38:05.247611Z",
     "iopub.status.idle": "2021-05-26T08:38:05.251782Z",
     "shell.execute_reply": "2021-05-26T08:38:05.251177Z",
     "shell.execute_reply.started": "2021-05-26T08:37:28.005255Z"
    },
    "papermill": {
     "duration": 0.031235,
     "end_time": "2021-05-26T08:38:05.251914",
     "exception": false,
     "start_time": "2021-05-26T08:38:05.220679",
     "status": "completed"
    },
    "tags": []
   },
   "outputs": [
    {
     "data": {
      "text/plain": [
       "[('Our Deeds are the Reason of this #earthquake May ALLAH Forgive us all',\n",
       "  {'cats': {'Disaster': True, 'Not_Disaster': False}}),\n",
       " ('Forest fire near La Ronge Sask. Canada',\n",
       "  {'cats': {'Disaster': True, 'Not_Disaster': False}}),\n",
       " (\"All residents asked to 'shelter in place' are being notified by officers. No other evacuation or shelter in place orders are expected\",\n",
       "  {'cats': {'Disaster': True, 'Not_Disaster': False}})]"
      ]
     },
     "execution_count": 12,
     "metadata": {},
     "output_type": "execute_result"
    }
   ],
   "source": [
    "train_classifier_data[:3]"
   ]
  },
  {
   "cell_type": "code",
   "execution_count": 13,
   "id": "shaped-transcription",
   "metadata": {
    "execution": {
     "iopub.execute_input": "2021-05-26T08:38:05.333562Z",
     "iopub.status.busy": "2021-05-26T08:38:05.328148Z",
     "iopub.status.idle": "2021-05-26T08:53:00.005125Z",
     "shell.execute_reply": "2021-05-26T08:53:00.005693Z",
     "shell.execute_reply.started": "2021-05-26T08:37:28.014050Z"
    },
    "papermill": {
     "duration": 894.730673,
     "end_time": "2021-05-26T08:53:00.005916",
     "exception": false,
     "start_time": "2021-05-26T08:38:05.275243",
     "status": "completed"
    },
    "tags": []
   },
   "outputs": [
    {
     "name": "stdout",
     "output_type": "stream",
     "text": [
      "{'textcat': 5.311279617191758}\n",
      "{'textcat': 8.446476191224065}\n",
      "{'textcat': 10.580094419201487}\n",
      "{'textcat': 12.142444305991376}\n",
      "{'textcat': 13.328999306524565}\n",
      "{'textcat': 14.263951404558611}\n",
      "{'textcat': 15.022631380922121}\n",
      "{'textcat': 15.645888627128897}\n",
      "{'textcat': 16.16052245742469}\n",
      "{'textcat': 16.598223631826045}\n",
      "{'textcat': 16.969649533917988}\n",
      "{'textcat': 17.295636651601427}\n",
      "{'textcat': 17.58023423897157}\n",
      "{'textcat': 17.834526663513913}\n",
      "{'textcat': 18.060132185460112}\n",
      "{'textcat': 18.26804351703722}\n",
      "{'textcat': 18.4562601208178}\n",
      "{'textcat': 18.621803418888405}\n",
      "{'textcat': 18.783862695975735}\n",
      "{'textcat': 18.933105522479103}\n",
      "{'textcat': 19.06777803666499}\n",
      "{'textcat': 19.202309141184248}\n",
      "{'textcat': 19.324673106368714}\n",
      "{'textcat': 19.44109167137889}\n",
      "{'textcat': 19.55588093339114}\n",
      "{'textcat': 19.663643769016645}\n",
      "{'textcat': 19.771402243135654}\n",
      "{'textcat': 19.875403627925916}\n",
      "{'textcat': 19.97551203522485}\n",
      "{'textcat': 20.07133309165179}\n",
      "{'textcat': 20.165790080947836}\n",
      "{'textcat': 20.260189559105953}\n",
      "{'textcat': 20.356458082492534}\n",
      "{'textcat': 20.449247754633273}\n",
      "{'textcat': 20.53590500847701}\n",
      "{'textcat': 20.62529300215808}\n",
      "{'textcat': 20.714199740961853}\n",
      "{'textcat': 20.80108075233475}\n",
      "{'textcat': 20.893375545660522}\n",
      "{'textcat': 20.980216343162855}\n",
      "{'textcat': 21.063171948241358}\n",
      "{'textcat': 21.14916543474714}\n",
      "{'textcat': 21.235906917507464}\n",
      "{'textcat': 21.321873050402267}\n",
      "{'textcat': 21.40627957873917}\n",
      "{'textcat': 21.491332646694275}\n",
      "{'textcat': 21.574258734031233}\n",
      "{'textcat': 21.657789862311258}\n",
      "{'textcat': 21.740477028228987}\n",
      "{'textcat': 21.822893980667526}\n",
      "{'textcat': 21.907319166820322}\n",
      "{'textcat': 21.992963948118344}\n",
      "{'textcat': 22.075820246333894}\n",
      "{'textcat': 22.16099008915142}\n",
      "{'textcat': 22.24572170147221}\n",
      "{'textcat': 22.326333053747867}\n",
      "{'textcat': 22.412311786489703}\n",
      "{'textcat': 22.495658235689948}\n",
      "{'textcat': 22.583506949588344}\n",
      "{'textcat': 22.6682990312083}\n",
      "{'textcat': 22.750955236794645}\n",
      "{'textcat': 22.83437025627456}\n",
      "{'textcat': 22.916318148057293}\n",
      "{'textcat': 22.997240144103323}\n",
      "{'textcat': 23.080920233333515}\n",
      "{'textcat': 23.16284654378436}\n",
      "{'textcat': 23.242982142463088}\n",
      "{'textcat': 23.32578141930639}\n",
      "{'textcat': 23.406372174252084}\n",
      "{'textcat': 23.488938744975428}\n",
      "{'textcat': 23.56964879911762}\n",
      "{'textcat': 23.65048095624794}\n",
      "{'textcat': 23.728928268505513}\n",
      "{'textcat': 23.812868729210024}\n",
      "{'textcat': 23.89570964498711}\n",
      "{'textcat': 23.97718573722136}\n",
      "{'textcat': 24.0553074208705}\n",
      "{'textcat': 24.13560147958718}\n",
      "{'textcat': 24.2166428575643}\n",
      "{'textcat': 24.298240364949127}\n",
      "{'textcat': 24.379700070269354}\n",
      "{'textcat': 24.461141666529652}\n",
      "{'textcat': 24.542218811729313}\n",
      "{'textcat': 24.623905872742082}\n",
      "{'textcat': 24.7026298335163}\n",
      "{'textcat': 24.782486941888283}\n",
      "{'textcat': 24.86428620610695}\n",
      "{'textcat': 24.94614098307894}\n",
      "{'textcat': 25.026747959130635}\n",
      "{'textcat': 25.107028949811138}\n",
      "{'textcat': 25.18989026535851}\n",
      "{'textcat': 25.270093830348912}\n",
      "{'textcat': 25.35206591401561}\n",
      "{'textcat': 25.42820234961804}\n",
      "{'textcat': 25.510180250028295}\n",
      "{'textcat': 25.592276589492165}\n",
      "{'textcat': 25.672075847512108}\n",
      "{'textcat': 25.754089583258043}\n",
      "{'textcat': 25.83506230865825}\n",
      "{'textcat': 25.915306383130464}\n"
     ]
    }
   ],
   "source": [
    "random.seed(1)\n",
    "spacy.util.fix_random_seed(1)\n",
    "optimizer = nlp.begin_training()\n",
    "losses = {}\n",
    "for epoch in range(100):\n",
    "    random.shuffle(train_classifier_data)\n",
    "    # Create the batch generator with batch size = 8\n",
    "    batches = spacy.util.minibatch(train_classifier_data, size=8)\n",
    "    # Iterate through minibatches\n",
    "    for batch in batches:\n",
    "        # Each batch is a list of (text, label) but we need to\n",
    "        # send separate lists for texts and labels to update().\n",
    "        # This is a quick way to split a list of tuples into lists\n",
    "        texts, labels = zip(*batch)\n",
    "        nlp.update(texts, labels, sgd=optimizer, losses=losses)\n",
    "    print(losses)\n"
   ]
  },
  {
   "cell_type": "code",
   "execution_count": 14,
   "id": "liked-hartford",
   "metadata": {
    "execution": {
     "iopub.execute_input": "2021-05-26T08:53:00.116402Z",
     "iopub.status.busy": "2021-05-26T08:53:00.115631Z",
     "iopub.status.idle": "2021-05-26T08:53:00.120535Z",
     "shell.execute_reply": "2021-05-26T08:53:00.119954Z"
    },
    "papermill": {
     "duration": 0.063115,
     "end_time": "2021-05-26T08:53:00.120680",
     "exception": false,
     "start_time": "2021-05-26T08:53:00.057565",
     "status": "completed"
    },
    "tags": []
   },
   "outputs": [
    {
     "data": {
      "text/plain": [
       "array(['Just happened a terrible car crash',\n",
       "       'Heard about #earthquake is different cities, stay safe everyone.',\n",
       "       'there is a forest fire at spot pond, geese are fleeing across the street, I cannot save them all',\n",
       "       ..., 'Green Line derailment in Chicago http://t.co/UtbXLcBIuY',\n",
       "       'MEG issues Hazardous Weather Outlook (HWO) http://t.co/3X6RBQJHn3',\n",
       "       '#CityofCalgary has activated its Municipal Emergency Plan. #yycstorm'],\n",
       "      dtype=object)"
      ]
     },
     "execution_count": 14,
     "metadata": {},
     "output_type": "execute_result"
    }
   ],
   "source": [
    "test_data['text'].values"
   ]
  },
  {
   "cell_type": "code",
   "execution_count": 15,
   "id": "hired-pattern",
   "metadata": {
    "execution": {
     "iopub.execute_input": "2021-05-26T08:53:00.256800Z",
     "iopub.status.busy": "2021-05-26T08:53:00.251181Z",
     "iopub.status.idle": "2021-05-26T08:53:01.174346Z",
     "shell.execute_reply": "2021-05-26T08:53:01.174906Z"
    },
    "papermill": {
     "duration": 0.99992,
     "end_time": "2021-05-26T08:53:01.175086",
     "exception": false,
     "start_time": "2021-05-26T08:53:00.175166",
     "status": "completed"
    },
    "tags": []
   },
   "outputs": [],
   "source": [
    "docs = [nlp.tokenizer(text) for text in test_data['text'].values]"
   ]
  },
  {
   "cell_type": "code",
   "execution_count": 16,
   "id": "molecular-romania",
   "metadata": {
    "execution": {
     "iopub.execute_input": "2021-05-26T08:53:01.287599Z",
     "iopub.status.busy": "2021-05-26T08:53:01.286878Z",
     "iopub.status.idle": "2021-05-26T08:53:01.291127Z",
     "shell.execute_reply": "2021-05-26T08:53:01.290462Z"
    },
    "papermill": {
     "duration": 0.062107,
     "end_time": "2021-05-26T08:53:01.291277",
     "exception": false,
     "start_time": "2021-05-26T08:53:01.229170",
     "status": "completed"
    },
    "tags": []
   },
   "outputs": [
    {
     "data": {
      "text/plain": [
       "[Just happened a terrible car crash,\n",
       " Heard about #earthquake is different cities, stay safe everyone.,\n",
       " there is a forest fire at spot pond, geese are fleeing across the street, I cannot save them all]"
      ]
     },
     "execution_count": 16,
     "metadata": {},
     "output_type": "execute_result"
    }
   ],
   "source": [
    "docs[:3]"
   ]
  },
  {
   "cell_type": "code",
   "execution_count": 17,
   "id": "intelligent-mauritius",
   "metadata": {
    "execution": {
     "iopub.execute_input": "2021-05-26T08:53:01.409116Z",
     "iopub.status.busy": "2021-05-26T08:53:01.408409Z",
     "iopub.status.idle": "2021-05-26T08:53:01.563793Z",
     "shell.execute_reply": "2021-05-26T08:53:01.564347Z"
    },
    "papermill": {
     "duration": 0.216761,
     "end_time": "2021-05-26T08:53:01.564544",
     "exception": false,
     "start_time": "2021-05-26T08:53:01.347783",
     "status": "completed"
    },
    "tags": []
   },
   "outputs": [
    {
     "name": "stdout",
     "output_type": "stream",
     "text": [
      "[[0.99586356 0.00413645]\n",
      " [0.82164735 0.17835265]\n",
      " [0.9879951  0.01200484]\n",
      " ...\n",
      " [0.9980665  0.00193357]\n",
      " [0.9973731  0.00262693]\n",
      " [0.5431238  0.45687622]]\n"
     ]
    }
   ],
   "source": [
    "# Use textcat to get the scores for each doc\n",
    "textcat = nlp.get_pipe('textcat')\n",
    "scores, _ = textcat.predict(docs)\n",
    "print(scores)\n"
   ]
  },
  {
   "cell_type": "code",
   "execution_count": 18,
   "id": "alien-present",
   "metadata": {
    "execution": {
     "iopub.execute_input": "2021-05-26T08:53:01.674735Z",
     "iopub.status.busy": "2021-05-26T08:53:01.673737Z",
     "iopub.status.idle": "2021-05-26T08:53:01.679078Z",
     "shell.execute_reply": "2021-05-26T08:53:01.679605Z"
    },
    "papermill": {
     "duration": 0.061012,
     "end_time": "2021-05-26T08:53:01.679778",
     "exception": false,
     "start_time": "2021-05-26T08:53:01.618766",
     "status": "completed"
    },
    "tags": []
   },
   "outputs": [
    {
     "data": {
      "text/plain": [
       "(3263, 2)"
      ]
     },
     "execution_count": 18,
     "metadata": {},
     "output_type": "execute_result"
    }
   ],
   "source": [
    "scores.shape"
   ]
  },
  {
   "cell_type": "code",
   "execution_count": 19,
   "id": "opened-interest",
   "metadata": {
    "execution": {
     "iopub.execute_input": "2021-05-26T08:53:01.789565Z",
     "iopub.status.busy": "2021-05-26T08:53:01.788513Z",
     "iopub.status.idle": "2021-05-26T08:53:01.794261Z",
     "shell.execute_reply": "2021-05-26T08:53:01.794725Z"
    },
    "papermill": {
     "duration": 0.062593,
     "end_time": "2021-05-26T08:53:01.794911",
     "exception": false,
     "start_time": "2021-05-26T08:53:01.732318",
     "status": "completed"
    },
    "tags": []
   },
   "outputs": [
    {
     "data": {
      "text/plain": [
       "array([0, 0, 0, 0, 0, 0, 1, 1, 1, 1])"
      ]
     },
     "execution_count": 19,
     "metadata": {},
     "output_type": "execute_result"
    }
   ],
   "source": [
    "# From the scores, find the label with the highest score/probability\n",
    "predicted_labels = scores.argmax(axis=1)\n",
    "#print([textcat.labels[label] for label in predicted_labels])\n",
    "#['Disaster', 'Not_Disaster']\n",
    "predicted_labels[:10]"
   ]
  },
  {
   "cell_type": "code",
   "execution_count": 20,
   "id": "limited-difference",
   "metadata": {
    "execution": {
     "iopub.execute_input": "2021-05-26T08:53:01.906238Z",
     "iopub.status.busy": "2021-05-26T08:53:01.905274Z",
     "iopub.status.idle": "2021-05-26T08:53:01.915130Z",
     "shell.execute_reply": "2021-05-26T08:53:01.915684Z"
    },
    "papermill": {
     "duration": 0.067027,
     "end_time": "2021-05-26T08:53:01.915894",
     "exception": false,
     "start_time": "2021-05-26T08:53:01.848867",
     "status": "completed"
    },
    "tags": []
   },
   "outputs": [
    {
     "data": {
      "text/plain": [
       "id        3263\n",
       "target    3263\n",
       "dtype: int64"
      ]
     },
     "execution_count": 20,
     "metadata": {},
     "output_type": "execute_result"
    }
   ],
   "source": [
    "my_submission_v_1 = pd.DataFrame({'id':test_data['id'].values, 'target':predicted_labels})\n",
    "my_submission_v_1.count()"
   ]
  },
  {
   "cell_type": "code",
   "execution_count": 21,
   "id": "international-chaos",
   "metadata": {
    "execution": {
     "iopub.execute_input": "2021-05-26T08:53:02.033361Z",
     "iopub.status.busy": "2021-05-26T08:53:02.032724Z",
     "iopub.status.idle": "2021-05-26T08:53:02.035370Z",
     "shell.execute_reply": "2021-05-26T08:53:02.035896Z"
    },
    "papermill": {
     "duration": 0.064581,
     "end_time": "2021-05-26T08:53:02.036083",
     "exception": false,
     "start_time": "2021-05-26T08:53:01.971502",
     "status": "completed"
    },
    "tags": []
   },
   "outputs": [],
   "source": [
    "test_data['predicted_target'] = predicted_labels.tolist()"
   ]
  },
  {
   "cell_type": "code",
   "execution_count": 22,
   "id": "quarterly-monitoring",
   "metadata": {
    "execution": {
     "iopub.execute_input": "2021-05-26T08:53:02.150200Z",
     "iopub.status.busy": "2021-05-26T08:53:02.149490Z",
     "iopub.status.idle": "2021-05-26T08:53:02.164343Z",
     "shell.execute_reply": "2021-05-26T08:53:02.163757Z"
    },
    "papermill": {
     "duration": 0.073552,
     "end_time": "2021-05-26T08:53:02.164516",
     "exception": false,
     "start_time": "2021-05-26T08:53:02.090964",
     "status": "completed"
    },
    "tags": []
   },
   "outputs": [
    {
     "name": "stdout",
     "output_type": "stream",
     "text": [
      "Your submission was successfully saved!\n"
     ]
    }
   ],
   "source": [
    "my_submission_v_1.to_csv('my_submission_v_1.1.csv', index=False)\n",
    "print(\"Your submission was successfully saved!\")"
   ]
  }
 ],
 "metadata": {
  "kernelspec": {
   "display_name": "Python 3",
   "language": "python",
   "name": "python3"
  },
  "language_info": {
   "codemirror_mode": {
    "name": "ipython",
    "version": 3
   },
   "file_extension": ".py",
   "mimetype": "text/x-python",
   "name": "python",
   "nbconvert_exporter": "python",
   "pygments_lexer": "ipython3",
   "version": "3.7.10"
  },
  "papermill": {
   "default_parameters": {},
   "duration": 910.236559,
   "end_time": "2021-05-26T08:53:03.850082",
   "environment_variables": {},
   "exception": null,
   "input_path": "__notebook__.ipynb",
   "output_path": "__notebook__.ipynb",
   "parameters": {},
   "start_time": "2021-05-26T08:37:53.613523",
   "version": "2.3.3"
  }
 },
 "nbformat": 4,
 "nbformat_minor": 5
}
